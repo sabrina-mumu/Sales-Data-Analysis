{
 "cells": [
  {
   "cell_type": "code",
   "execution_count": 1,
   "id": "09d127bd-c9f4-44c6-b932-f0e5c5d41fa9",
   "metadata": {
    "collapsed": true,
    "jupyter": {
     "outputs_hidden": true
    },
    "scrolled": true
   },
   "outputs": [
    {
     "name": "stdout",
     "output_type": "stream",
     "text": [
      "Requirement already satisfied: pandas in c:\\users\\mumu\\appdata\\local\\programs\\python\\python313\\lib\\site-packages (2.2.3)\n",
      "Requirement already satisfied: numpy>=1.26.0 in c:\\users\\mumu\\appdata\\local\\programs\\python\\python313\\lib\\site-packages (from pandas) (2.2.2)\n",
      "Requirement already satisfied: python-dateutil>=2.8.2 in c:\\users\\mumu\\appdata\\local\\programs\\python\\python313\\lib\\site-packages (from pandas) (2.9.0.post0)\n",
      "Requirement already satisfied: pytz>=2020.1 in c:\\users\\mumu\\appdata\\local\\programs\\python\\python313\\lib\\site-packages (from pandas) (2025.1)\n",
      "Requirement already satisfied: tzdata>=2022.7 in c:\\users\\mumu\\appdata\\local\\programs\\python\\python313\\lib\\site-packages (from pandas) (2025.1)\n",
      "Requirement already satisfied: six>=1.5 in c:\\users\\mumu\\appdata\\local\\programs\\python\\python313\\lib\\site-packages (from python-dateutil>=2.8.2->pandas) (1.17.0)\n",
      "Note: you may need to restart the kernel to use updated packages.\n"
     ]
    },
    {
     "name": "stderr",
     "output_type": "stream",
     "text": [
      "\n",
      "[notice] A new release of pip is available: 24.3.1 -> 25.0\n",
      "[notice] To update, run: python.exe -m pip install --upgrade pip\n"
     ]
    }
   ],
   "source": [
    "pip install pandas"
   ]
  },
  {
   "cell_type": "code",
   "execution_count": 90,
   "id": "744dfa5b-760d-43b5-aa09-2570ae7dad6a",
   "metadata": {
    "collapsed": true,
    "jupyter": {
     "outputs_hidden": true
    },
    "scrolled": true
   },
   "outputs": [
    {
     "name": "stdout",
     "output_type": "stream",
     "text": [
      "Collecting seaborn\n",
      "  Downloading seaborn-0.13.2-py3-none-any.whl.metadata (5.4 kB)\n",
      "Requirement already satisfied: numpy!=1.24.0,>=1.20 in c:\\users\\mumu\\appdata\\local\\programs\\python\\python313\\lib\\site-packages (from seaborn) (2.2.2)\n",
      "Requirement already satisfied: pandas>=1.2 in c:\\users\\mumu\\appdata\\local\\programs\\python\\python313\\lib\\site-packages (from seaborn) (2.2.3)\n",
      "Collecting matplotlib!=3.6.1,>=3.4 (from seaborn)\n",
      "  Downloading matplotlib-3.10.0-cp313-cp313-win_amd64.whl.metadata (11 kB)\n",
      "Collecting contourpy>=1.0.1 (from matplotlib!=3.6.1,>=3.4->seaborn)\n",
      "  Downloading contourpy-1.3.1-cp313-cp313-win_amd64.whl.metadata (5.4 kB)\n",
      "Collecting cycler>=0.10 (from matplotlib!=3.6.1,>=3.4->seaborn)\n",
      "  Downloading cycler-0.12.1-py3-none-any.whl.metadata (3.8 kB)\n",
      "Collecting fonttools>=4.22.0 (from matplotlib!=3.6.1,>=3.4->seaborn)\n",
      "  Downloading fonttools-4.56.0-cp313-cp313-win_amd64.whl.metadata (103 kB)\n",
      "Collecting kiwisolver>=1.3.1 (from matplotlib!=3.6.1,>=3.4->seaborn)\n",
      "  Downloading kiwisolver-1.4.8-cp313-cp313-win_amd64.whl.metadata (6.3 kB)\n",
      "Requirement already satisfied: packaging>=20.0 in c:\\users\\mumu\\appdata\\local\\programs\\python\\python313\\lib\\site-packages (from matplotlib!=3.6.1,>=3.4->seaborn) (24.2)\n",
      "Collecting pillow>=8 (from matplotlib!=3.6.1,>=3.4->seaborn)\n",
      "  Downloading pillow-11.1.0-cp313-cp313-win_amd64.whl.metadata (9.3 kB)\n",
      "Collecting pyparsing>=2.3.1 (from matplotlib!=3.6.1,>=3.4->seaborn)\n",
      "  Downloading pyparsing-3.2.1-py3-none-any.whl.metadata (5.0 kB)\n",
      "Requirement already satisfied: python-dateutil>=2.7 in c:\\users\\mumu\\appdata\\local\\programs\\python\\python313\\lib\\site-packages (from matplotlib!=3.6.1,>=3.4->seaborn) (2.9.0.post0)\n",
      "Requirement already satisfied: pytz>=2020.1 in c:\\users\\mumu\\appdata\\local\\programs\\python\\python313\\lib\\site-packages (from pandas>=1.2->seaborn) (2025.1)\n",
      "Requirement already satisfied: tzdata>=2022.7 in c:\\users\\mumu\\appdata\\local\\programs\\python\\python313\\lib\\site-packages (from pandas>=1.2->seaborn) (2025.1)\n",
      "Requirement already satisfied: six>=1.5 in c:\\users\\mumu\\appdata\\local\\programs\\python\\python313\\lib\\site-packages (from python-dateutil>=2.7->matplotlib!=3.6.1,>=3.4->seaborn) (1.17.0)\n",
      "Downloading seaborn-0.13.2-py3-none-any.whl (294 kB)\n",
      "Downloading matplotlib-3.10.0-cp313-cp313-win_amd64.whl (8.0 MB)\n",
      "   ---------------------------------------- 0.0/8.0 MB ? eta -:--:--\n",
      "   ----- ---------------------------------- 1.0/8.0 MB 5.5 MB/s eta 0:00:02\n",
      "   ------- -------------------------------- 1.6/8.0 MB 3.6 MB/s eta 0:00:02\n",
      "   ------- -------------------------------- 1.6/8.0 MB 3.6 MB/s eta 0:00:02\n",
      "   ------- -------------------------------- 1.6/8.0 MB 3.6 MB/s eta 0:00:02\n",
      "   -------------- ------------------------- 2.9/8.0 MB 3.0 MB/s eta 0:00:02\n",
      "   --------------- ------------------------ 3.1/8.0 MB 2.9 MB/s eta 0:00:02\n",
      "   --------------- ------------------------ 3.1/8.0 MB 2.9 MB/s eta 0:00:02\n",
      "   ---------------------- ----------------- 4.5/8.0 MB 2.7 MB/s eta 0:00:02\n",
      "   ------------------------ --------------- 5.0/8.0 MB 2.7 MB/s eta 0:00:02\n",
      "   -------------------------- ------------- 5.2/8.0 MB 2.7 MB/s eta 0:00:02\n",
      "   ------------------------------ --------- 6.0/8.0 MB 2.7 MB/s eta 0:00:01\n",
      "   -------------------------------- ------- 6.6/8.0 MB 2.6 MB/s eta 0:00:01\n",
      "   ----------------------------------- ---- 7.1/8.0 MB 2.6 MB/s eta 0:00:01\n",
      "   ------------------------------------- -- 7.6/8.0 MB 2.6 MB/s eta 0:00:01\n",
      "   ---------------------------------------- 8.0/8.0 MB 2.6 MB/s eta 0:00:00\n",
      "Downloading contourpy-1.3.1-cp313-cp313-win_amd64.whl (220 kB)\n",
      "Downloading cycler-0.12.1-py3-none-any.whl (8.3 kB)\n",
      "Downloading fonttools-4.56.0-cp313-cp313-win_amd64.whl (2.2 MB)\n",
      "   ---------------------------------------- 0.0/2.2 MB ? eta -:--:--\n",
      "   --------- ------------------------------ 0.5/2.2 MB 13.4 MB/s eta 0:00:01\n",
      "   ------------------- -------------------- 1.0/2.2 MB 2.8 MB/s eta 0:00:01\n",
      "   --------------------------------- ------ 1.8/2.2 MB 3.1 MB/s eta 0:00:01\n",
      "   ---------------------------------------- 2.2/2.2 MB 2.9 MB/s eta 0:00:00\n",
      "Downloading kiwisolver-1.4.8-cp313-cp313-win_amd64.whl (71 kB)\n",
      "Downloading pillow-11.1.0-cp313-cp313-win_amd64.whl (2.6 MB)\n",
      "   ---------------------------------------- 0.0/2.6 MB ? eta -:--:--\n",
      "   ----------- ---------------------------- 0.8/2.6 MB 4.1 MB/s eta 0:00:01\n",
      "   ------------------- -------------------- 1.3/2.6 MB 3.1 MB/s eta 0:00:01\n",
      "   --------------------------- ------------ 1.8/2.6 MB 2.8 MB/s eta 0:00:01\n",
      "   ----------------------------------- ---- 2.4/2.6 MB 2.8 MB/s eta 0:00:01\n",
      "   ---------------------------------------- 2.6/2.6 MB 2.5 MB/s eta 0:00:00\n",
      "Downloading pyparsing-3.2.1-py3-none-any.whl (107 kB)\n",
      "Installing collected packages: pyparsing, pillow, kiwisolver, fonttools, cycler, contourpy, matplotlib, seaborn\n",
      "Successfully installed contourpy-1.3.1 cycler-0.12.1 fonttools-4.56.0 kiwisolver-1.4.8 matplotlib-3.10.0 pillow-11.1.0 pyparsing-3.2.1 seaborn-0.13.2\n",
      "Note: you may need to restart the kernel to use updated packages.\n"
     ]
    },
    {
     "name": "stderr",
     "output_type": "stream",
     "text": [
      "\n",
      "[notice] A new release of pip is available: 24.3.1 -> 25.0\n",
      "[notice] To update, run: python.exe -m pip install --upgrade pip\n"
     ]
    }
   ],
   "source": [
    "pip install seaborn"
   ]
  },
  {
   "cell_type": "code",
   "execution_count": 2,
   "id": "902c349c-25d7-4662-a008-ced09ecea156",
   "metadata": {},
   "outputs": [
    {
     "name": "stdout",
     "output_type": "stream",
     "text": [
      "2.2.3\n"
     ]
    }
   ],
   "source": [
    "import pandas as pd\n",
    "print(pd.__version__)  # Check installed version"
   ]
  },
  {
   "cell_type": "code",
   "execution_count": 203,
   "id": "c25ef1bd-0e51-401f-bbd9-f835867f3580",
   "metadata": {},
   "outputs": [
    {
     "data": {
      "text/html": [
       "<div>\n",
       "<style scoped>\n",
       "    .dataframe tbody tr th:only-of-type {\n",
       "        vertical-align: middle;\n",
       "    }\n",
       "\n",
       "    .dataframe tbody tr th {\n",
       "        vertical-align: top;\n",
       "    }\n",
       "\n",
       "    .dataframe thead th {\n",
       "        text-align: right;\n",
       "    }\n",
       "</style>\n",
       "<table border=\"1\" class=\"dataframe\">\n",
       "  <thead>\n",
       "    <tr style=\"text-align: right;\">\n",
       "      <th></th>\n",
       "      <th>login</th>\n",
       "      <th>ticket</th>\n",
       "      <th>symbol</th>\n",
       "      <th>type</th>\n",
       "      <th>open_time</th>\n",
       "      <th>close_time</th>\n",
       "      <th>open_price</th>\n",
       "      <th>close_price</th>\n",
       "      <th>stop loss</th>\n",
       "      <th>take profit</th>\n",
       "      <th>pips</th>\n",
       "      <th>reason</th>\n",
       "      <th>volume</th>\n",
       "      <th>profit</th>\n",
       "    </tr>\n",
       "  </thead>\n",
       "  <tbody>\n",
       "    <tr>\n",
       "      <th>0</th>\n",
       "      <td>11173702</td>\n",
       "      <td>47345780</td>\n",
       "      <td>XAUUSD</td>\n",
       "      <td>Buy</td>\n",
       "      <td>2024.07.30 11:05:29</td>\n",
       "      <td>2024-07-31 7:58:09</td>\n",
       "      <td>2391.28</td>\n",
       "      <td>2420.69</td>\n",
       "      <td>2367.62</td>\n",
       "      <td>2420.64</td>\n",
       "      <td>2936.0</td>\n",
       "      <td>4</td>\n",
       "      <td>190</td>\n",
       "      <td>5578.40</td>\n",
       "    </tr>\n",
       "    <tr>\n",
       "      <th>1</th>\n",
       "      <td>11173702</td>\n",
       "      <td>47718163</td>\n",
       "      <td>XAUUSD</td>\n",
       "      <td>Buy</td>\n",
       "      <td>2024.07.31 09:46:04</td>\n",
       "      <td>2024-07-31 21:42:15</td>\n",
       "      <td>2421.81</td>\n",
       "      <td>2431.41</td>\n",
       "      <td>2399.23</td>\n",
       "      <td>2431.41</td>\n",
       "      <td>960.0</td>\n",
       "      <td>4</td>\n",
       "      <td>200</td>\n",
       "      <td>1920.00</td>\n",
       "    </tr>\n",
       "    <tr>\n",
       "      <th>2</th>\n",
       "      <td>11173702</td>\n",
       "      <td>50360070</td>\n",
       "      <td>XAUUSD</td>\n",
       "      <td>Sell</td>\n",
       "      <td>2024.08.13 13:03:27</td>\n",
       "      <td>2024-08-14 15:24:08</td>\n",
       "      <td>2460.93</td>\n",
       "      <td>2472.80</td>\n",
       "      <td>2480.93</td>\n",
       "      <td>2451.37</td>\n",
       "      <td>-1199.0</td>\n",
       "      <td>0</td>\n",
       "      <td>200</td>\n",
       "      <td>-2398.00</td>\n",
       "    </tr>\n",
       "    <tr>\n",
       "      <th>3</th>\n",
       "      <td>11173702</td>\n",
       "      <td>51120570</td>\n",
       "      <td>XAUUSD</td>\n",
       "      <td>Buy</td>\n",
       "      <td>2024.08.19 13:27:40</td>\n",
       "      <td>2024-08-19 16:37:12</td>\n",
       "      <td>2495.80</td>\n",
       "      <td>2485.65</td>\n",
       "      <td>2485.71</td>\n",
       "      <td>2508.16</td>\n",
       "      <td>-1012.0</td>\n",
       "      <td>3</td>\n",
       "      <td>190</td>\n",
       "      <td>-1922.80</td>\n",
       "    </tr>\n",
       "    <tr>\n",
       "      <th>4</th>\n",
       "      <td>11173702</td>\n",
       "      <td>52180073</td>\n",
       "      <td>XAUUSD</td>\n",
       "      <td>Sell</td>\n",
       "      <td>2024.08.28 02:30:32</td>\n",
       "      <td>2024-08-28 15:29:39</td>\n",
       "      <td>2526.53</td>\n",
       "      <td>2496.42</td>\n",
       "      <td>2537.07</td>\n",
       "      <td>2496.82</td>\n",
       "      <td>2971.0</td>\n",
       "      <td>4</td>\n",
       "      <td>189</td>\n",
       "      <td>5615.19</td>\n",
       "    </tr>\n",
       "  </tbody>\n",
       "</table>\n",
       "</div>"
      ],
      "text/plain": [
       "      login    ticket  symbol  type            open_time           close_time  \\\n",
       "0  11173702  47345780  XAUUSD   Buy  2024.07.30 11:05:29   2024-07-31 7:58:09   \n",
       "1  11173702  47718163  XAUUSD   Buy  2024.07.31 09:46:04  2024-07-31 21:42:15   \n",
       "2  11173702  50360070  XAUUSD  Sell  2024.08.13 13:03:27  2024-08-14 15:24:08   \n",
       "3  11173702  51120570  XAUUSD   Buy  2024.08.19 13:27:40  2024-08-19 16:37:12   \n",
       "4  11173702  52180073  XAUUSD  Sell  2024.08.28 02:30:32  2024-08-28 15:29:39   \n",
       "\n",
       "   open_price  close_price  stop loss  take profit    pips  reason  volume  \\\n",
       "0     2391.28      2420.69    2367.62      2420.64  2936.0       4     190   \n",
       "1     2421.81      2431.41    2399.23      2431.41   960.0       4     200   \n",
       "2     2460.93      2472.80    2480.93      2451.37 -1199.0       0     200   \n",
       "3     2495.80      2485.65    2485.71      2508.16 -1012.0       3     190   \n",
       "4     2526.53      2496.42    2537.07      2496.82  2971.0       4     189   \n",
       "\n",
       "    profit  \n",
       "0  5578.40  \n",
       "1  1920.00  \n",
       "2 -2398.00  \n",
       "3 -1922.80  \n",
       "4  5615.19  "
      ]
     },
     "execution_count": 203,
     "metadata": {},
     "output_type": "execute_result"
    }
   ],
   "source": [
    "import pandas as pd\n",
    "\n",
    "# Google Sheet ID (Extract from the URL)\n",
    "sheet_id = \"16RfJdqHqj6Q9ETsMlMxpdxUwAXD19eKOZftJWCrpjVI\"\n",
    "\n",
    "# Export as CSV format\n",
    "url = f\"https://docs.google.com/spreadsheets/d/{sheet_id}/gviz/tq?tqx=out:csv\"\n",
    "\n",
    "# Read Google Sheet into Pandas\n",
    "df = pd.read_csv(url)\n",
    "\n",
    "# Display data\n",
    "df.head()"
   ]
  },
  {
   "cell_type": "code",
   "execution_count": 204,
   "id": "5cd02213-06b8-442f-8972-288bfaa111e9",
   "metadata": {},
   "outputs": [
    {
     "data": {
      "text/html": [
       "<div>\n",
       "<style scoped>\n",
       "    .dataframe tbody tr th:only-of-type {\n",
       "        vertical-align: middle;\n",
       "    }\n",
       "\n",
       "    .dataframe tbody tr th {\n",
       "        vertical-align: top;\n",
       "    }\n",
       "\n",
       "    .dataframe thead th {\n",
       "        text-align: right;\n",
       "    }\n",
       "</style>\n",
       "<table border=\"1\" class=\"dataframe\">\n",
       "  <thead>\n",
       "    <tr style=\"text-align: right;\">\n",
       "      <th></th>\n",
       "      <th>login</th>\n",
       "      <th>ticket</th>\n",
       "      <th>symbol</th>\n",
       "      <th>type</th>\n",
       "      <th>open_time</th>\n",
       "      <th>close_time</th>\n",
       "      <th>open_price</th>\n",
       "      <th>close_price</th>\n",
       "      <th>stop_loss</th>\n",
       "      <th>take_profit</th>\n",
       "      <th>pips</th>\n",
       "      <th>reason</th>\n",
       "      <th>volume</th>\n",
       "      <th>profit</th>\n",
       "    </tr>\n",
       "  </thead>\n",
       "  <tbody>\n",
       "    <tr>\n",
       "      <th>0</th>\n",
       "      <td>11173702</td>\n",
       "      <td>47345780</td>\n",
       "      <td>XAUUSD</td>\n",
       "      <td>Buy</td>\n",
       "      <td>2024.07.30 11:05:29</td>\n",
       "      <td>2024-07-31 7:58:09</td>\n",
       "      <td>2391.28</td>\n",
       "      <td>2420.69</td>\n",
       "      <td>2367.62</td>\n",
       "      <td>2420.64</td>\n",
       "      <td>2936.0</td>\n",
       "      <td>4</td>\n",
       "      <td>190</td>\n",
       "      <td>5578.40</td>\n",
       "    </tr>\n",
       "    <tr>\n",
       "      <th>1</th>\n",
       "      <td>11173702</td>\n",
       "      <td>47718163</td>\n",
       "      <td>XAUUSD</td>\n",
       "      <td>Buy</td>\n",
       "      <td>2024.07.31 09:46:04</td>\n",
       "      <td>2024-07-31 21:42:15</td>\n",
       "      <td>2421.81</td>\n",
       "      <td>2431.41</td>\n",
       "      <td>2399.23</td>\n",
       "      <td>2431.41</td>\n",
       "      <td>960.0</td>\n",
       "      <td>4</td>\n",
       "      <td>200</td>\n",
       "      <td>1920.00</td>\n",
       "    </tr>\n",
       "    <tr>\n",
       "      <th>2</th>\n",
       "      <td>11173702</td>\n",
       "      <td>50360070</td>\n",
       "      <td>XAUUSD</td>\n",
       "      <td>Sell</td>\n",
       "      <td>2024.08.13 13:03:27</td>\n",
       "      <td>2024-08-14 15:24:08</td>\n",
       "      <td>2460.93</td>\n",
       "      <td>2472.80</td>\n",
       "      <td>2480.93</td>\n",
       "      <td>2451.37</td>\n",
       "      <td>-1199.0</td>\n",
       "      <td>0</td>\n",
       "      <td>200</td>\n",
       "      <td>-2398.00</td>\n",
       "    </tr>\n",
       "    <tr>\n",
       "      <th>3</th>\n",
       "      <td>11173702</td>\n",
       "      <td>51120570</td>\n",
       "      <td>XAUUSD</td>\n",
       "      <td>Buy</td>\n",
       "      <td>2024.08.19 13:27:40</td>\n",
       "      <td>2024-08-19 16:37:12</td>\n",
       "      <td>2495.80</td>\n",
       "      <td>2485.65</td>\n",
       "      <td>2485.71</td>\n",
       "      <td>2508.16</td>\n",
       "      <td>-1012.0</td>\n",
       "      <td>3</td>\n",
       "      <td>190</td>\n",
       "      <td>-1922.80</td>\n",
       "    </tr>\n",
       "    <tr>\n",
       "      <th>4</th>\n",
       "      <td>11173702</td>\n",
       "      <td>52180073</td>\n",
       "      <td>XAUUSD</td>\n",
       "      <td>Sell</td>\n",
       "      <td>2024.08.28 02:30:32</td>\n",
       "      <td>2024-08-28 15:29:39</td>\n",
       "      <td>2526.53</td>\n",
       "      <td>2496.42</td>\n",
       "      <td>2537.07</td>\n",
       "      <td>2496.82</td>\n",
       "      <td>2971.0</td>\n",
       "      <td>4</td>\n",
       "      <td>189</td>\n",
       "      <td>5615.19</td>\n",
       "    </tr>\n",
       "  </tbody>\n",
       "</table>\n",
       "</div>"
      ],
      "text/plain": [
       "      login    ticket  symbol  type            open_time           close_time  \\\n",
       "0  11173702  47345780  XAUUSD   Buy  2024.07.30 11:05:29   2024-07-31 7:58:09   \n",
       "1  11173702  47718163  XAUUSD   Buy  2024.07.31 09:46:04  2024-07-31 21:42:15   \n",
       "2  11173702  50360070  XAUUSD  Sell  2024.08.13 13:03:27  2024-08-14 15:24:08   \n",
       "3  11173702  51120570  XAUUSD   Buy  2024.08.19 13:27:40  2024-08-19 16:37:12   \n",
       "4  11173702  52180073  XAUUSD  Sell  2024.08.28 02:30:32  2024-08-28 15:29:39   \n",
       "\n",
       "   open_price  close_price  stop_loss  take_profit    pips  reason  volume  \\\n",
       "0     2391.28      2420.69    2367.62      2420.64  2936.0       4     190   \n",
       "1     2421.81      2431.41    2399.23      2431.41   960.0       4     200   \n",
       "2     2460.93      2472.80    2480.93      2451.37 -1199.0       0     200   \n",
       "3     2495.80      2485.65    2485.71      2508.16 -1012.0       3     190   \n",
       "4     2526.53      2496.42    2537.07      2496.82  2971.0       4     189   \n",
       "\n",
       "    profit  \n",
       "0  5578.40  \n",
       "1  1920.00  \n",
       "2 -2398.00  \n",
       "3 -1922.80  \n",
       "4  5615.19  "
      ]
     },
     "execution_count": 204,
     "metadata": {},
     "output_type": "execute_result"
    }
   ],
   "source": [
    "# Standardize column names(removing spaces & ensuring lowercase)\n",
    "df.columns = df.columns.str.strip().str.lower().str.replace(\" \", \"_\")\n",
    "df.head()"
   ]
  },
  {
   "cell_type": "code",
   "execution_count": 205,
   "id": "39a9a170-0f13-44f8-bd22-0fc961e9586d",
   "metadata": {},
   "outputs": [
    {
     "name": "stdout",
     "output_type": "stream",
     "text": [
      "Shape of the dataset:\n"
     ]
    },
    {
     "data": {
      "text/plain": [
       "(59317, 14)"
      ]
     },
     "execution_count": 205,
     "metadata": {},
     "output_type": "execute_result"
    }
   ],
   "source": [
    "# Display the shape of data\n",
    "print(\"Shape of the dataset:\")\n",
    "df.shape"
   ]
  },
  {
   "cell_type": "code",
   "execution_count": 206,
   "id": "d160a5b7-9657-42cd-b62e-b8ca288f3cd4",
   "metadata": {},
   "outputs": [
    {
     "name": "stdout",
     "output_type": "stream",
     "text": [
      "Column names are:\n"
     ]
    },
    {
     "data": {
      "text/plain": [
       "Index(['login', 'ticket', 'symbol', 'type', 'open_time', 'close_time',\n",
       "       'open_price', 'close_price', 'stop_loss', 'take_profit', 'pips',\n",
       "       'reason', 'volume', 'profit'],\n",
       "      dtype='object')"
      ]
     },
     "execution_count": 206,
     "metadata": {},
     "output_type": "execute_result"
    }
   ],
   "source": [
    "# Display all the col names\n",
    "print(\"Column names are:\")\n",
    "df.columns"
   ]
  },
  {
   "cell_type": "code",
   "execution_count": 207,
   "id": "3a1edecc-7af3-4f4a-91f8-3003ba990536",
   "metadata": {},
   "outputs": [
    {
     "name": "stdout",
     "output_type": "stream",
     "text": [
      "\n",
      "Summary Statistics:\n"
     ]
    },
    {
     "data": {
      "text/html": [
       "<div>\n",
       "<style scoped>\n",
       "    .dataframe tbody tr th:only-of-type {\n",
       "        vertical-align: middle;\n",
       "    }\n",
       "\n",
       "    .dataframe tbody tr th {\n",
       "        vertical-align: top;\n",
       "    }\n",
       "\n",
       "    .dataframe thead th {\n",
       "        text-align: right;\n",
       "    }\n",
       "</style>\n",
       "<table border=\"1\" class=\"dataframe\">\n",
       "  <thead>\n",
       "    <tr style=\"text-align: right;\">\n",
       "      <th></th>\n",
       "      <th>login</th>\n",
       "      <th>ticket</th>\n",
       "      <th>open_price</th>\n",
       "      <th>close_price</th>\n",
       "      <th>stop_loss</th>\n",
       "      <th>take_profit</th>\n",
       "      <th>pips</th>\n",
       "      <th>reason</th>\n",
       "      <th>volume</th>\n",
       "      <th>profit</th>\n",
       "    </tr>\n",
       "  </thead>\n",
       "  <tbody>\n",
       "    <tr>\n",
       "      <th>count</th>\n",
       "      <td>5.931700e+04</td>\n",
       "      <td>5.931700e+04</td>\n",
       "      <td>59317.000000</td>\n",
       "      <td>59317.000000</td>\n",
       "      <td>59317.000000</td>\n",
       "      <td>5.931700e+04</td>\n",
       "      <td>5.931700e+04</td>\n",
       "      <td>59317.000000</td>\n",
       "      <td>59317.000000</td>\n",
       "      <td>59317.000000</td>\n",
       "    </tr>\n",
       "    <tr>\n",
       "      <th>mean</th>\n",
       "      <td>4.274373e+07</td>\n",
       "      <td>4.820009e+07</td>\n",
       "      <td>9247.848230</td>\n",
       "      <td>9249.311204</td>\n",
       "      <td>6119.568535</td>\n",
       "      <td>4.895936e+03</td>\n",
       "      <td>1.115243e+02</td>\n",
       "      <td>7.236711</td>\n",
       "      <td>176.008463</td>\n",
       "      <td>22.606170</td>\n",
       "    </tr>\n",
       "    <tr>\n",
       "      <th>std</th>\n",
       "      <td>2.126909e+08</td>\n",
       "      <td>2.781208e+07</td>\n",
       "      <td>20700.786785</td>\n",
       "      <td>20702.285285</td>\n",
       "      <td>17961.190194</td>\n",
       "      <td>1.736828e+04</td>\n",
       "      <td>3.093160e+04</td>\n",
       "      <td>6.774457</td>\n",
       "      <td>1768.198799</td>\n",
       "      <td>687.227407</td>\n",
       "    </tr>\n",
       "    <tr>\n",
       "      <th>min</th>\n",
       "      <td>1.117370e+07</td>\n",
       "      <td>7.631230e+05</td>\n",
       "      <td>0.308400</td>\n",
       "      <td>0.325050</td>\n",
       "      <td>0.000000</td>\n",
       "      <td>0.000000e+00</td>\n",
       "      <td>-1.465680e+06</td>\n",
       "      <td>0.000000</td>\n",
       "      <td>1.000000</td>\n",
       "      <td>-12250.000000</td>\n",
       "    </tr>\n",
       "    <tr>\n",
       "      <th>25%</th>\n",
       "      <td>1.318703e+07</td>\n",
       "      <td>2.785692e+07</td>\n",
       "      <td>70.730000</td>\n",
       "      <td>70.940000</td>\n",
       "      <td>0.000000</td>\n",
       "      <td>0.000000e+00</td>\n",
       "      <td>-1.890000e+02</td>\n",
       "      <td>1.000000</td>\n",
       "      <td>20.000000</td>\n",
       "      <td>-102.000000</td>\n",
       "    </tr>\n",
       "    <tr>\n",
       "      <th>50%</th>\n",
       "      <td>1.327834e+07</td>\n",
       "      <td>5.709664e+07</td>\n",
       "      <td>2645.190000</td>\n",
       "      <td>2645.790000</td>\n",
       "      <td>1.248030</td>\n",
       "      <td>9.317200e-01</td>\n",
       "      <td>7.200000e+00</td>\n",
       "      <td>4.000000</td>\n",
       "      <td>51.000000</td>\n",
       "      <td>2.000000</td>\n",
       "    </tr>\n",
       "    <tr>\n",
       "      <th>75%</th>\n",
       "      <td>1.340079e+07</td>\n",
       "      <td>7.241683e+07</td>\n",
       "      <td>2755.480000</td>\n",
       "      <td>2755.220000</td>\n",
       "      <td>2667.400000</td>\n",
       "      <td>2.648650e+03</td>\n",
       "      <td>2.430000e+02</td>\n",
       "      <td>16.000000</td>\n",
       "      <td>150.000000</td>\n",
       "      <td>81.860000</td>\n",
       "    </tr>\n",
       "    <tr>\n",
       "      <th>max</th>\n",
       "      <td>2.145732e+09</td>\n",
       "      <td>8.051714e+07</td>\n",
       "      <td>109111.000000</td>\n",
       "      <td>108304.000000</td>\n",
       "      <td>442230.000000</td>\n",
       "      <td>1.085760e+06</td>\n",
       "      <td>1.560000e+06</td>\n",
       "      <td>17.000000</td>\n",
       "      <td>100000.000000</td>\n",
       "      <td>19061.100000</td>\n",
       "    </tr>\n",
       "  </tbody>\n",
       "</table>\n",
       "</div>"
      ],
      "text/plain": [
       "              login        ticket     open_price    close_price  \\\n",
       "count  5.931700e+04  5.931700e+04   59317.000000   59317.000000   \n",
       "mean   4.274373e+07  4.820009e+07    9247.848230    9249.311204   \n",
       "std    2.126909e+08  2.781208e+07   20700.786785   20702.285285   \n",
       "min    1.117370e+07  7.631230e+05       0.308400       0.325050   \n",
       "25%    1.318703e+07  2.785692e+07      70.730000      70.940000   \n",
       "50%    1.327834e+07  5.709664e+07    2645.190000    2645.790000   \n",
       "75%    1.340079e+07  7.241683e+07    2755.480000    2755.220000   \n",
       "max    2.145732e+09  8.051714e+07  109111.000000  108304.000000   \n",
       "\n",
       "           stop_loss   take_profit          pips        reason         volume  \\\n",
       "count   59317.000000  5.931700e+04  5.931700e+04  59317.000000   59317.000000   \n",
       "mean     6119.568535  4.895936e+03  1.115243e+02      7.236711     176.008463   \n",
       "std     17961.190194  1.736828e+04  3.093160e+04      6.774457    1768.198799   \n",
       "min         0.000000  0.000000e+00 -1.465680e+06      0.000000       1.000000   \n",
       "25%         0.000000  0.000000e+00 -1.890000e+02      1.000000      20.000000   \n",
       "50%         1.248030  9.317200e-01  7.200000e+00      4.000000      51.000000   \n",
       "75%      2667.400000  2.648650e+03  2.430000e+02     16.000000     150.000000   \n",
       "max    442230.000000  1.085760e+06  1.560000e+06     17.000000  100000.000000   \n",
       "\n",
       "             profit  \n",
       "count  59317.000000  \n",
       "mean      22.606170  \n",
       "std      687.227407  \n",
       "min   -12250.000000  \n",
       "25%     -102.000000  \n",
       "50%        2.000000  \n",
       "75%       81.860000  \n",
       "max    19061.100000  "
      ]
     },
     "execution_count": 207,
     "metadata": {},
     "output_type": "execute_result"
    }
   ],
   "source": [
    "# Summary statistics\n",
    "print(\"\\nSummary Statistics:\")\n",
    "df.describe()"
   ]
  },
  {
   "cell_type": "code",
   "execution_count": 208,
   "id": "c47b014a-b380-41a7-bafb-b7d1451e391c",
   "metadata": {},
   "outputs": [
    {
     "data": {
      "text/plain": [
       "login            int64\n",
       "ticket           int64\n",
       "symbol          object\n",
       "type            object\n",
       "open_time       object\n",
       "close_time      object\n",
       "open_price     float64\n",
       "close_price    float64\n",
       "stop_loss      float64\n",
       "take_profit    float64\n",
       "pips           float64\n",
       "reason           int64\n",
       "volume           int64\n",
       "profit         float64\n",
       "dtype: object"
      ]
     },
     "execution_count": 208,
     "metadata": {},
     "output_type": "execute_result"
    }
   ],
   "source": [
    "df.dtypes"
   ]
  },
  {
   "cell_type": "code",
   "execution_count": 209,
   "id": "c75e32b1-a550-4b53-92f1-6e07fb430060",
   "metadata": {},
   "outputs": [],
   "source": [
    "# Convert open_time and close_time to datetime format\n",
    "df['open_time'] = pd.to_datetime(df['open_time'])\n",
    "df['close_time'] = pd.to_datetime(df['close_time'])"
   ]
  },
  {
   "cell_type": "code",
   "execution_count": 210,
   "id": "d83995a1-e613-41b0-8cc0-e9fac5da928d",
   "metadata": {},
   "outputs": [
    {
     "name": "stdout",
     "output_type": "stream",
     "text": [
      "open_time     datetime64[ns]\n",
      "close_time    datetime64[ns]\n",
      "dtype: object\n"
     ]
    }
   ],
   "source": [
    "print(df[['open_time', 'close_time']].dtypes)"
   ]
  },
  {
   "cell_type": "code",
   "execution_count": 211,
   "id": "f215b25b-ca78-4907-9f01-449c58031fd3",
   "metadata": {},
   "outputs": [
    {
     "name": "stdout",
     "output_type": "stream",
     "text": [
      "Dataset Overview:\n",
      "<class 'pandas.core.frame.DataFrame'>\n",
      "RangeIndex: 59317 entries, 0 to 59316\n",
      "Data columns (total 14 columns):\n",
      " #   Column       Non-Null Count  Dtype         \n",
      "---  ------       --------------  -----         \n",
      " 0   login        59317 non-null  int64         \n",
      " 1   ticket       59317 non-null  int64         \n",
      " 2   symbol       59317 non-null  object        \n",
      " 3   type         59317 non-null  object        \n",
      " 4   open_time    59317 non-null  datetime64[ns]\n",
      " 5   close_time   47168 non-null  datetime64[ns]\n",
      " 6   open_price   59317 non-null  float64       \n",
      " 7   close_price  59317 non-null  float64       \n",
      " 8   stop_loss    59317 non-null  float64       \n",
      " 9   take_profit  59317 non-null  float64       \n",
      " 10  pips         59317 non-null  float64       \n",
      " 11  reason       59317 non-null  int64         \n",
      " 12  volume       59317 non-null  int64         \n",
      " 13  profit       59317 non-null  float64       \n",
      "dtypes: datetime64[ns](2), float64(6), int64(4), object(2)\n",
      "memory usage: 6.3+ MB\n",
      "None\n"
     ]
    }
   ],
   "source": [
    "# Display basic info\n",
    "print(\"Dataset Overview:\")\n",
    "print(df.info())\n"
   ]
  },
  {
   "cell_type": "code",
   "execution_count": 212,
   "id": "8db1cd3d-313a-4478-a11c-70c872c50ae1",
   "metadata": {},
   "outputs": [
    {
     "name": "stdout",
     "output_type": "stream",
     "text": [
      "\n",
      "Missing Values per Column:\n",
      "login              0\n",
      "ticket             0\n",
      "symbol             0\n",
      "type               0\n",
      "open_time          0\n",
      "close_time     12149\n",
      "open_price         0\n",
      "close_price        0\n",
      "stop_loss          0\n",
      "take_profit        0\n",
      "pips               0\n",
      "reason             0\n",
      "volume             0\n",
      "profit             0\n",
      "dtype: int64\n"
     ]
    }
   ],
   "source": [
    "# Check for missing values\n",
    "print(\"\\nMissing Values per Column:\")\n",
    "print(df.isnull().sum())"
   ]
  },
  {
   "cell_type": "code",
   "execution_count": 213,
   "id": "095d8f41-0252-4dd1-bea4-11c3b277b753",
   "metadata": {},
   "outputs": [
    {
     "name": "stdout",
     "output_type": "stream",
     "text": [
      "Number of duplicate rows: 0\n"
     ]
    }
   ],
   "source": [
    "# Check for duplicate rows\n",
    "duplicates = df.duplicated().sum()\n",
    "print(f\"Number of duplicate rows: {duplicates}\")"
   ]
  },
  {
   "cell_type": "code",
   "execution_count": 214,
   "id": "8f0bf997-1e0a-4a72-b906-ae0d21add4ca",
   "metadata": {},
   "outputs": [
    {
     "name": "stdout",
     "output_type": "stream",
     "text": [
      "1970-01-01 02:00:00 2025-02-03 09:39:39\n",
      "2024-07-01 14:32:05 2025-02-03 09:38:20\n"
     ]
    }
   ],
   "source": [
    "# Check the range of dates\n",
    "print(df['close_time'].min(), df['close_time'].max())\n",
    "print(df['open_time'].min(), df['open_time'].max())"
   ]
  },
  {
   "cell_type": "code",
   "execution_count": 215,
   "id": "3259334e-85a1-4f35-ade8-c1fe7857bbd8",
   "metadata": {},
   "outputs": [
    {
     "name": "stdout",
     "output_type": "stream",
     "text": [
      "close_time\n",
      "1970-01-01    197\n",
      "Name: unrealistic_trade_count, dtype: int64\n"
     ]
    }
   ],
   "source": [
    "# Define a realistic date range\n",
    "min_realistic_date = pd.Timestamp(\"2024-07-01\")\n",
    "max_realistic_date = pd.Timestamp.today()  # Current date\n",
    "\n",
    "# Identify unrealistic close_time values\n",
    "unrealistic_dates = df[(df['close_time'] < min_realistic_date) | (df['close_time'] > max_realistic_date)]\n",
    "\n",
    "# Count occurrences grouped by date\n",
    "unrealistic_count = unrealistic_dates.groupby(df['close_time'].dt.strftime('%Y-%m-%d'))['open_time'].count()\n",
    "unrealistic_count = unrealistic_count.rename(\"unrealistic_trade_count\")\n",
    "# Display results\n",
    "print(unrealistic_count)\n",
    "# print(unrealistic_dates)\n"
   ]
  },
  {
   "cell_type": "code",
   "execution_count": 216,
   "id": "2c01ba3c-c0d8-4762-b82b-b6e184d704ad",
   "metadata": {},
   "outputs": [
    {
     "name": "stdout",
     "output_type": "stream",
     "text": [
      "Rows before cleaning: 59317\n",
      "Rows after cleaning: 59120\n",
      "Removed 197 unrealistic trades\n"
     ]
    }
   ],
   "source": [
    "# Identify unrealistic trades \n",
    "unrealistic_trades = df[df['close_time'].dt.year < 2024]\n",
    "\n",
    "# Remove only those rows from the DataFrame\n",
    "df_cleaned = df.drop(unrealistic_trades.index)\n",
    "\n",
    "# Reset index\n",
    "df_cleaned = df_cleaned.reset_index(drop=True)\n",
    "\n",
    "# Verify the count after removal\n",
    "print(f\"Rows before cleaning: {len(df)}\")\n",
    "print(f\"Rows after cleaning: {len(df_cleaned)}\")\n",
    "print(f\"Removed {len(unrealistic_trades)} unrealistic trades\")"
   ]
  },
  {
   "cell_type": "code",
   "execution_count": 217,
   "id": "6c8d265c-2b6b-4438-9010-da5f1ce20d40",
   "metadata": {},
   "outputs": [
    {
     "data": {
      "text/plain": [
       "Index(['login', 'ticket', 'symbol', 'type', 'open_time', 'close_time',\n",
       "       'open_price', 'close_price', 'stop_loss', 'take_profit', 'pips',\n",
       "       'reason', 'volume', 'profit'],\n",
       "      dtype='object')"
      ]
     },
     "execution_count": 217,
     "metadata": {},
     "output_type": "execute_result"
    }
   ],
   "source": [
    "df_cleaned.columns"
   ]
  },
  {
   "cell_type": "code",
   "execution_count": 218,
   "id": "3e654a7a-01f8-4124-8861-b74e290262c5",
   "metadata": {
    "scrolled": true
   },
   "outputs": [
    {
     "name": "stdout",
     "output_type": "stream",
     "text": [
      "            login    ticket  symbol  type           open_time close_time  \\\n",
      "4666     13079955  80499639  EURUSD   Buy 2025-02-03 09:25:57        NaT   \n",
      "5402     13085699  80485183  XAUUSD  Sell 2025-02-03 08:18:16        NaT   \n",
      "7949     13129634  80516056  GBPAUD   Buy 2025-02-03 09:36:18        NaT   \n",
      "10886    13149604  80515266  GBPUSD   Buy 2025-02-03 09:34:27        NaT   \n",
      "19138    13204062  80504352  NZDUSD  Sell 2025-02-03 09:07:03        NaT   \n",
      "...           ...       ...     ...   ...                 ...        ...   \n",
      "59115  2145732336   2412502  NZDUSD  sell 2024-11-07 11:23:51        NaT   \n",
      "59116  2145732336   2426484  GBPNZD   buy 2024-11-11 14:41:30        NaT   \n",
      "59117  2145732336   2433467  GBPNZD   buy 2024-11-12 15:30:58        NaT   \n",
      "59118  2145732336   2437184  EURGBP  sell 2024-11-13 09:40:04        NaT   \n",
      "59119  2145732336   2444120  GBPJPY   buy 2024-11-14 10:22:55        NaT   \n",
      "\n",
      "       open_price  close_price  stop_loss  take_profit  pips  reason  volume  \\\n",
      "4666      1.02303      1.02302    1.02243      1.02483  -1.0      16      17   \n",
      "5402   2786.22000   2786.45000    0.00000      0.00000 -23.0       1      24   \n",
      "7949      2.00089      2.00071    0.00000      0.00000 -18.0      16      80   \n",
      "10886     1.22846      1.22842    0.00000      0.00000  -4.0      16      51   \n",
      "19138     0.55557      0.55569    0.55696      0.00000 -12.0       1     300   \n",
      "...           ...          ...        ...          ...   ...     ...     ...   \n",
      "59115     0.59964      0.60140    0.60140      0.59000 -17.6       5       3   \n",
      "59116     2.15926      2.15841    2.15704      2.17100  -8.5       5       2   \n",
      "59117     2.15519      2.15128    2.14945      2.17500 -39.1       5       2   \n",
      "59118     0.83259      0.83350    0.83350      0.82700  -9.1       5       3   \n",
      "59119   197.62200    197.29600  197.30000    200.00000 -32.6       5       2   \n",
      "\n",
      "       profit  \n",
      "4666    -0.17  \n",
      "5402    -5.52  \n",
      "7949    -8.84  \n",
      "10886   -2.04  \n",
      "19138  -36.00  \n",
      "...       ...  \n",
      "59115   -5.28  \n",
      "59116   -1.02  \n",
      "59117   -4.63  \n",
      "59118   -3.48  \n",
      "59119   -4.17  \n",
      "\n",
      "[12149 rows x 14 columns]\n"
     ]
    }
   ],
   "source": [
    "# Display rows where colse_time is missing\n",
    "missing_rows = df_cleaned[df_cleaned['close_time'].isna()]\n",
    "print(missing_rows)"
   ]
  },
  {
   "cell_type": "code",
   "execution_count": 219,
   "id": "c9d3056d-b3c7-4b8d-a6c6-8485abeb22b7",
   "metadata": {},
   "outputs": [
    {
     "name": "stdout",
     "output_type": "stream",
     "text": [
      "<DatetimeArray>\n",
      "['NaT']\n",
      "Length: 1, dtype: datetime64[ns]\n"
     ]
    }
   ],
   "source": [
    "# Get unique values from the 'close_time' column where values are missing\n",
    "unique_missing_close_times = missing_rows['close_time'].unique()\n",
    "\n",
    "# Display unique values\n",
    "print(unique_missing_close_times)"
   ]
  },
  {
   "cell_type": "code",
   "execution_count": 220,
   "id": "11528c1a-517f-4136-8a12-f1e5006c9ce8",
   "metadata": {
    "scrolled": true
   },
   "outputs": [
    {
     "name": "stdout",
     "output_type": "stream",
     "text": [
      "[datetime.date(2025, 2, 3) datetime.date(2025, 1, 30)\n",
      " datetime.date(2025, 1, 31) datetime.date(2024, 8, 9)\n",
      " datetime.date(2024, 8, 12) datetime.date(2024, 8, 13)\n",
      " datetime.date(2024, 8, 14) datetime.date(2024, 8, 23)\n",
      " datetime.date(2024, 8, 28) datetime.date(2024, 8, 29)\n",
      " datetime.date(2024, 9, 4) datetime.date(2024, 9, 13)\n",
      " datetime.date(2024, 9, 16) datetime.date(2024, 9, 17)\n",
      " datetime.date(2024, 9, 18) datetime.date(2024, 9, 30)\n",
      " datetime.date(2024, 10, 1) datetime.date(2024, 10, 4)\n",
      " datetime.date(2024, 10, 17) datetime.date(2024, 10, 21)\n",
      " datetime.date(2024, 10, 22) datetime.date(2024, 11, 1)\n",
      " datetime.date(2024, 11, 7) datetime.date(2024, 11, 13)\n",
      " datetime.date(2024, 11, 14) datetime.date(2024, 11, 28)\n",
      " datetime.date(2024, 11, 29) datetime.date(2024, 12, 18)\n",
      " datetime.date(2024, 12, 19) datetime.date(2024, 12, 20)\n",
      " datetime.date(2025, 1, 2) datetime.date(2025, 1, 17)\n",
      " datetime.date(2025, 1, 21) datetime.date(2025, 1, 22)\n",
      " datetime.date(2025, 1, 23) datetime.date(2025, 1, 24)\n",
      " datetime.date(2024, 8, 5) datetime.date(2024, 8, 6)\n",
      " datetime.date(2024, 8, 7) datetime.date(2024, 8, 16)\n",
      " datetime.date(2024, 8, 20) datetime.date(2024, 8, 21)\n",
      " datetime.date(2024, 8, 22) datetime.date(2024, 8, 26)\n",
      " datetime.date(2024, 9, 2) datetime.date(2024, 9, 3)\n",
      " datetime.date(2024, 9, 5) datetime.date(2024, 9, 9)\n",
      " datetime.date(2024, 9, 19) datetime.date(2024, 9, 20)\n",
      " datetime.date(2024, 9, 23) datetime.date(2024, 9, 24)\n",
      " datetime.date(2024, 9, 25) datetime.date(2024, 9, 26)\n",
      " datetime.date(2024, 9, 27) datetime.date(2024, 10, 7)\n",
      " datetime.date(2024, 10, 31) datetime.date(2024, 11, 25)\n",
      " datetime.date(2024, 11, 26) datetime.date(2024, 11, 27)\n",
      " datetime.date(2024, 12, 2) datetime.date(2024, 12, 3)\n",
      " datetime.date(2024, 12, 4) datetime.date(2024, 12, 5)\n",
      " datetime.date(2024, 12, 6) datetime.date(2024, 12, 26)\n",
      " datetime.date(2025, 1, 9) datetime.date(2025, 1, 10)\n",
      " datetime.date(2025, 1, 14) datetime.date(2024, 8, 8)\n",
      " datetime.date(2024, 8, 15) datetime.date(2024, 8, 27)\n",
      " datetime.date(2024, 8, 30) datetime.date(2024, 9, 6)\n",
      " datetime.date(2024, 9, 10) datetime.date(2024, 9, 11)\n",
      " datetime.date(2024, 9, 12) datetime.date(2024, 10, 2)\n",
      " datetime.date(2024, 10, 3) datetime.date(2024, 10, 8)\n",
      " datetime.date(2024, 10, 9) datetime.date(2024, 10, 11)\n",
      " datetime.date(2024, 10, 14) datetime.date(2024, 10, 15)\n",
      " datetime.date(2024, 10, 16) datetime.date(2024, 10, 18)\n",
      " datetime.date(2024, 10, 23) datetime.date(2024, 10, 24)\n",
      " datetime.date(2024, 10, 25) datetime.date(2024, 10, 28)\n",
      " datetime.date(2024, 10, 29) datetime.date(2024, 10, 30)\n",
      " datetime.date(2024, 11, 4) datetime.date(2024, 11, 5)\n",
      " datetime.date(2024, 11, 6) datetime.date(2024, 11, 8)\n",
      " datetime.date(2024, 11, 15) datetime.date(2024, 11, 19)\n",
      " datetime.date(2024, 11, 20) datetime.date(2025, 1, 13)\n",
      " datetime.date(2024, 12, 10) datetime.date(2024, 8, 19)\n",
      " datetime.date(2024, 10, 10) datetime.date(2024, 11, 21)\n",
      " datetime.date(2024, 12, 11) datetime.date(2024, 12, 16)\n",
      " datetime.date(2024, 12, 24) datetime.date(2024, 12, 27)\n",
      " datetime.date(2024, 11, 11) datetime.date(2024, 11, 12)\n",
      " datetime.date(2024, 11, 18) datetime.date(2024, 12, 12)\n",
      " datetime.date(2024, 12, 23) datetime.date(2024, 12, 30)\n",
      " datetime.date(2025, 1, 6) datetime.date(2025, 1, 7)\n",
      " datetime.date(2025, 1, 15) datetime.date(2025, 1, 16)\n",
      " datetime.date(2025, 1, 20) datetime.date(2025, 1, 27)\n",
      " datetime.date(2025, 1, 28) datetime.date(2025, 1, 29)\n",
      " datetime.date(2024, 12, 17) datetime.date(2024, 12, 31)\n",
      " datetime.date(2025, 1, 3) datetime.date(2025, 1, 8)\n",
      " datetime.date(2024, 12, 9) datetime.date(2024, 12, 13)\n",
      " datetime.date(2024, 11, 22) datetime.date(2024, 12, 25)\n",
      " datetime.date(2024, 7, 2) datetime.date(2024, 7, 3)\n",
      " datetime.date(2024, 7, 4) datetime.date(2024, 7, 5)\n",
      " datetime.date(2024, 7, 8) datetime.date(2024, 7, 9)\n",
      " datetime.date(2024, 7, 10) datetime.date(2024, 7, 11)\n",
      " datetime.date(2024, 7, 12) datetime.date(2024, 7, 15)\n",
      " datetime.date(2024, 7, 16) datetime.date(2024, 7, 17)\n",
      " datetime.date(2024, 7, 18) datetime.date(2024, 7, 19)\n",
      " datetime.date(2024, 7, 22) datetime.date(2024, 7, 23)\n",
      " datetime.date(2024, 7, 24) datetime.date(2024, 7, 25)\n",
      " datetime.date(2024, 7, 26) datetime.date(2024, 7, 29)\n",
      " datetime.date(2024, 7, 30) datetime.date(2024, 7, 31)\n",
      " datetime.date(2024, 8, 2)]\n"
     ]
    }
   ],
   "source": [
    "# Extract 'open_time' for rows where 'close_time' is NaT\n",
    "missing_dates = missing_rows['open_time'].dt.date.unique()\n",
    "\n",
    "# Display unique dates when 'close_time' was missing\n",
    "print(missing_dates)\n"
   ]
  },
  {
   "cell_type": "code",
   "execution_count": 221,
   "id": "d5ed08bd-46ea-408a-99f9-6aa63fdf57a4",
   "metadata": {
    "scrolled": true
   },
   "outputs": [
    {
     "name": "stderr",
     "output_type": "stream",
     "text": [
      "C:\\Users\\MUMU\\AppData\\Local\\Temp\\ipykernel_18044\\180285624.py:4: SettingWithCopyWarning: \n",
      "A value is trying to be set on a copy of a slice from a DataFrame.\n",
      "Try using .loc[row_indexer,col_indexer] = value instead\n",
      "\n",
      "See the caveats in the documentation: https://pandas.pydata.org/pandas-docs/stable/user_guide/indexing.html#returning-a-view-versus-a-copy\n",
      "  missing_rows['open_month_year'] = missing_rows['open_time'].dt.to_period('M')  # Format: YYYY-MM\n"
     ]
    },
    {
     "data": {
      "image/png": "[encoded data removed]",
      "text/plain": [
       "<Figure size 600x400 with 1 Axes>"
      ]
     },
     "metadata": {},
     "output_type": "display_data"
    }
   ],
   "source": [
    "import matplotlib.pyplot as plt\n",
    "\n",
    "# Extract Year-Month from 'open_time'\n",
    "missing_rows['open_month_year'] = missing_rows['open_time'].dt.to_period('M')  # Format: YYYY-MM\n",
    "\n",
    "# Count missing values per Year-Month\n",
    "missing_counts = missing_rows.groupby('open_month_year').size()\n",
    "\n",
    "# Plot\n",
    "plt.figure(figsize=(6,4))\n",
    "missing_counts.plot(kind='bar', color='red')\n",
    "plt.title(\"Number of Missing `close_time` per Month & Year\")\n",
    "plt.xlabel(\"Month & Year\")\n",
    "plt.ylabel(\"Count of Missing Values\")\n",
    "plt.xticks(rotation=45)\n",
    "plt.grid(axis='y')\n",
    "plt.show()\n"
   ]
  },
  {
   "cell_type": "code",
   "execution_count": 222,
   "id": "957ab995-e703-4fc3-9763-3ef5ee0a41cd",
   "metadata": {},
   "outputs": [
    {
     "data": {
      "text/plain": [
       "login              0\n",
       "ticket             0\n",
       "symbol             0\n",
       "type               0\n",
       "open_time          0\n",
       "close_time     12149\n",
       "open_price         0\n",
       "close_price        0\n",
       "stop_loss          0\n",
       "take_profit        0\n",
       "pips               0\n",
       "reason             0\n",
       "volume             0\n",
       "profit             0\n",
       "dtype: int64"
      ]
     },
     "execution_count": 222,
     "metadata": {},
     "output_type": "execute_result"
    }
   ],
   "source": [
    "df_cleaned.isnull().sum()"
   ]
  },
  {
   "cell_type": "code",
   "execution_count": 223,
   "id": "b9acf23f-957c-4b9f-b4d1-394de760d14d",
   "metadata": {},
   "outputs": [
    {
     "name": "stdout",
     "output_type": "stream",
     "text": [
      "month_year\n",
      "2024-07    51.447661\n",
      "2024-08    69.492614\n",
      "2024-09    43.111782\n",
      "2024-10    30.241501\n",
      "2024-11    14.903794\n",
      "2024-12    15.642978\n",
      "2025-01    15.867678\n",
      "2025-02    23.239437\n",
      "Freq: M, dtype: float64\n"
     ]
    },
    {
     "name": "stderr",
     "output_type": "stream",
     "text": [
      "C:\\Users\\MUMU\\AppData\\Local\\Temp\\ipykernel_18044\\820662874.py:8: SettingWithCopyWarning: \n",
      "A value is trying to be set on a copy of a slice from a DataFrame.\n",
      "Try using .loc[row_indexer,col_indexer] = value instead\n",
      "\n",
      "See the caveats in the documentation: https://pandas.pydata.org/pandas-docs/stable/user_guide/indexing.html#returning-a-view-versus-a-copy\n",
      "  missing_rows['month_year'] = missing_rows['open_time'].dt.to_period('M')\n"
     ]
    }
   ],
   "source": [
    "# Extract Month-Year from 'open_time'\n",
    "df_cleaned['month_year'] = df_cleaned['open_time'].dt.to_period('M')  # Format: YYYY-MM\n",
    "\n",
    "# Count total trades per month\n",
    "total_trades_per_month = df_cleaned.groupby('month_year').size()\n",
    "\n",
    "# Count missing `close_time` per month\n",
    "missing_rows['month_year'] = missing_rows['open_time'].dt.to_period('M')\n",
    "missing_counts_per_month = missing_rows.groupby('month_year').size()\n",
    "\n",
    "# Calculate percentage of missing values per month\n",
    "missing_percentage = (missing_counts_per_month / total_trades_per_month) * 100\n",
    "\n",
    "print(missing_percentage)\n"
   ]
  },
  {
   "cell_type": "code",
   "execution_count": 224,
   "id": "1ed1e3d9-10f7-44fe-96e0-27e6a28b51f8",
   "metadata": {},
   "outputs": [
    {
     "data": {
      "text/plain": [
       "count                        46935\n",
       "mean     0 days 00:45:29.419367209\n",
       "std      6 days 22:19:22.769829311\n",
       "min            -212 days +23:54:02\n",
       "25%                0 days 00:00:00\n",
       "50%                0 days 00:11:48\n",
       "75%         0 days 04:26:38.500000\n",
       "max              104 days 18:12:13\n",
       "Name: close_time_diff, dtype: object"
      ]
     },
     "execution_count": 224,
     "metadata": {},
     "output_type": "execute_result"
    }
   ],
   "source": [
    "# Check if close_time increases sequentially per login\n",
    "df_sorted = df_cleaned.sort_values(by=['login', 'open_time'])  # Ensure data is sorted\n",
    "df_cleaned['close_time_diff'] = df_cleaned['close_time'].diff()  # Check time difference\n",
    "\n",
    "# If most `close_time_diff` values are positive, trades follow a sequence\n",
    "df_cleaned['close_time_diff'].describe()\n"
   ]
  },
  {
   "cell_type": "code",
   "execution_count": 225,
   "id": "ca00a646-5dae-4a16-bf5a-f4668ee45312",
   "metadata": {},
   "outputs": [],
   "source": [
    "df_cleaned = df_cleaned.drop(columns=['close_time_diff'])"
   ]
  },
  {
   "cell_type": "code",
   "execution_count": 226,
   "id": "bd21ebdb-c340-4915-ab65-74c239ef17c1",
   "metadata": {},
   "outputs": [
    {
     "name": "stdout",
     "output_type": "stream",
     "text": [
      "Missing values at start: 0\n"
     ]
    }
   ],
   "source": [
    "# Count missing values at the beginning of the dataset\n",
    "missing_at_start = df_cleaned['close_time'].isna().cumsum()\n",
    "print(f\"Missing values at start: {missing_at_start.iloc[0]}\")\n"
   ]
  },
  {
   "cell_type": "code",
   "execution_count": 227,
   "id": "5f6548a1-baf6-422a-a9ba-ac5560dfbc52",
   "metadata": {},
   "outputs": [
    {
     "name": "stdout",
     "output_type": "stream",
     "text": [
      "count                              491\n",
      "mean     2024-12-30 11:14:37.282341376\n",
      "min      2024-07-13 23:10:33.982758656\n",
      "25%         2024-12-13 13:37:00.880000\n",
      "50%      2025-01-09 16:47:54.166666496\n",
      "75%      2025-01-24 13:19:26.790740736\n",
      "max                2025-02-03 08:36:48\n",
      "Name: close_time, dtype: object\n"
     ]
    }
   ],
   "source": [
    "# Calculate mean close time per login (excluding NaNs)\n",
    "login_close_means = df_cleaned.groupby('login')['close_time'].mean()\n",
    "\n",
    "# Check variance in average close times across logins\n",
    "print(login_close_means.describe())\n"
   ]
  },
  {
   "cell_type": "code",
   "execution_count": 228,
   "id": "5cdf59fe-8cc7-42e7-8de6-1e9a52b8f69f",
   "metadata": {},
   "outputs": [
    {
     "name": "stdout",
     "output_type": "stream",
     "text": [
      "Latest open trade: 2025-02-03 09:37:42, Today's date: 2025-02-09 02:47:41.223007\n"
     ]
    }
   ],
   "source": [
    "from datetime import datetime\n",
    "\n",
    "# Check if open trades are recent (last few days)\n",
    "recent_trades = df_cleaned[df_cleaned['close_time'].isna()]['open_time'].max()\n",
    "\n",
    "# Compare with today's date\n",
    "print(f\"Latest open trade: {recent_trades}, Today's date: {datetime.now()}\")\n"
   ]
  },
  {
   "cell_type": "code",
   "execution_count": 229,
   "id": "b3bb7a47-5366-46a0-b5ab-4a23784c44e4",
   "metadata": {},
   "outputs": [
    {
     "name": "stdout",
     "output_type": "stream",
     "text": [
      "Missing 'close_time' values after fill: 0\n"
     ]
    }
   ],
   "source": [
    "# Combine forward and backward fill (use forward fill first, then backward fill for remaining NaT)\n",
    "df_cleaned['close_time'] = df_cleaned['close_time'].ffill().bfill()\n",
    "\n",
    "# Check how many NaT values remain after filling\n",
    "missing_values_after_fill_ffill = df_cleaned['close_time'].isna().sum()\n",
    "print(f\"Missing 'close_time' values after fill: {missing_values_after_fill_ffill}\")\n"
   ]
  },
  {
   "cell_type": "code",
   "execution_count": 230,
   "id": "f84b0ba5-9ccb-48bd-855f-e0340286d331",
   "metadata": {},
   "outputs": [
    {
     "data": {
      "text/plain": [
       "login          0\n",
       "ticket         0\n",
       "symbol         0\n",
       "type           0\n",
       "open_time      0\n",
       "close_time     0\n",
       "open_price     0\n",
       "close_price    0\n",
       "stop_loss      0\n",
       "take_profit    0\n",
       "pips           0\n",
       "reason         0\n",
       "volume         0\n",
       "profit         0\n",
       "month_year     0\n",
       "dtype: int64"
      ]
     },
     "execution_count": 230,
     "metadata": {},
     "output_type": "execute_result"
    }
   ],
   "source": [
    "df_cleaned.isnull().sum()"
   ]
  },
  {
   "cell_type": "code",
   "execution_count": 231,
   "id": "595cfc14-ecd5-4b47-80ae-e6317c56d88b",
   "metadata": {},
   "outputs": [
    {
     "name": "stdout",
     "output_type": "stream",
     "text": [
      "Logical Inconsistencies (Negative Values):\n",
      "open_price     0\n",
      "close_price    0\n",
      "stop_loss      0\n",
      "take_profit    0\n",
      "dtype: int64\n"
     ]
    }
   ],
   "source": [
    "# Check logical inconsistencies\n",
    "print(\"Logical Inconsistencies (Negative Values):\")\n",
    "print(df_cleaned[['open_price', 'close_price', 'stop_loss', 'take_profit']].lt(0).sum())"
   ]
  },
  {
   "cell_type": "code",
   "execution_count": 232,
   "id": "886e29ca-0f8a-4b4b-8028-221695f8019e",
   "metadata": {},
   "outputs": [
    {
     "name": "stdout",
     "output_type": "stream",
     "text": [
      "Duplicate 'login' and 'ticket' pairs:\n",
      "35\n"
     ]
    }
   ],
   "source": [
    "# Check for Duplicate 'login' and 'ticket' pairs (assuming 'ticket' should be unique per 'login')\n",
    "print(\"Duplicate 'login' and 'ticket' pairs:\")\n",
    "print(df_cleaned[['login', 'ticket']].duplicated().sum())"
   ]
  },
  {
   "cell_type": "code",
   "execution_count": 233,
   "id": "c7970eae-e7e5-4579-9977-6385fcf425b9",
   "metadata": {},
   "outputs": [
    {
     "name": "stdout",
     "output_type": "stream",
     "text": [
      "          login   ticket  symbol  type           open_time  \\\n",
      "47544  55008088  2584063  NZDCAD   buy 2024-12-18 23:09:43   \n",
      "47545  55008088  2584063  NZDCAD   buy 2024-12-18 23:09:43   \n",
      "47546  55008088  2584085  NZDCAD   buy 2024-12-18 23:13:14   \n",
      "47547  55008088  2584085  NZDCAD   buy 2024-12-18 23:13:14   \n",
      "50045  55008837  2597468  XAUUSD  sell 2024-12-23 12:28:28   \n",
      "...         ...      ...     ...   ...                 ...   \n",
      "56616  55012315  2596855  GBPJPY   buy 2024-12-23 10:09:47   \n",
      "56947  55012794  2669046  EURUSD  sell 2025-01-17 02:13:42   \n",
      "56948  55012794  2669046  EURUSD  sell 2025-01-17 02:13:42   \n",
      "57646  55013106  2700481  BTCUSD   buy 2025-01-27 03:04:59   \n",
      "57647  55013106  2700481  BTCUSD   buy 2025-01-27 03:04:59   \n",
      "\n",
      "               close_time    open_price   close_price  stop_loss  take_profit  \\\n",
      "47544 2025-02-03 02:54:09       0.81719       0.81128        0.0       0.8258   \n",
      "47545 2025-02-03 02:54:09       0.81719       0.81178        0.0       0.8258   \n",
      "47546 2025-02-03 02:54:09       0.81722       0.81178        0.0       0.8258   \n",
      "47547 2025-02-03 02:54:09       0.81722       0.81128        0.0       0.8258   \n",
      "50045 2025-02-03 02:54:09    2623.71000    2613.14000     2633.8    2598.8000   \n",
      "...                   ...           ...           ...        ...          ...   \n",
      "56616 2025-02-03 02:54:09     196.76700     196.70400      195.7     205.0000   \n",
      "56947 2025-02-03 02:54:09       1.02990       1.03002        0.0       0.0000   \n",
      "56948 2025-02-03 02:54:09       1.02990       1.02993        0.0       0.0000   \n",
      "57646 2025-02-03 02:54:09  101944.39000  101917.80000        0.0       0.0000   \n",
      "57647 2025-02-03 02:54:09  101944.39000  101906.65000        0.0       0.0000   \n",
      "\n",
      "         pips  reason  volume  profit month_year  \n",
      "47544   -59.1       5     100 -411.30    2024-12  \n",
      "47545   -54.1       5     100 -376.96    2024-12  \n",
      "47546   -54.4       5      50 -189.52    2024-12  \n",
      "47547   -59.4       5      50 -206.70    2024-12  \n",
      "50045  1057.0       5       7   73.99    2024-12  \n",
      "...       ...     ...     ...     ...        ...  \n",
      "56616    -6.3       5     100  -40.09    2024-12  \n",
      "56947    -1.2       5     300  -36.00    2025-01  \n",
      "56948    -0.3       5     300   -9.00    2025-01  \n",
      "57646 -2659.0       0      95  -25.26    2025-01  \n",
      "57647 -3774.0       0      95  -35.85    2025-01  \n",
      "\n",
      "[70 rows x 15 columns]\n"
     ]
    }
   ],
   "source": [
    "# Identify duplicates based on the combination of 'login' and 'ticket'\n",
    "duplicates = df_cleaned[df_cleaned.duplicated(subset=['login', 'ticket'], keep=False)]\n",
    "\n",
    "# Display the rows with duplicates\n",
    "print(duplicates)\n"
   ]
  },
  {
   "cell_type": "code",
   "execution_count": 234,
   "id": "674773d5-d792-4edd-98eb-e3b0f36349e3",
   "metadata": {},
   "outputs": [
    {
     "data": {
      "text/plain": [
       "(59120, 15)"
      ]
     },
     "execution_count": 234,
     "metadata": {},
     "output_type": "execute_result"
    }
   ],
   "source": [
    "df_cleaned.shape"
   ]
  },
  {
   "cell_type": "code",
   "execution_count": 235,
   "id": "eb364d74-695c-4e55-947c-ee72be9576fd",
   "metadata": {},
   "outputs": [],
   "source": [
    "# Identify duplicate pairs (keeping all occurrences)\n",
    "duplicate_pairs = df_cleaned[df_cleaned.duplicated(subset=['ticket', 'login'], keep=False)]\n",
    "\n",
    "# Drop only ONE occurrence per duplicate pair\n",
    "df_cleaned = df_cleaned.drop_duplicates(subset=['ticket', 'login'], keep='last')\n"
   ]
  },
  {
   "cell_type": "code",
   "execution_count": 236,
   "id": "ed71e04e-5c78-4dc4-b607-7c46a85bdef7",
   "metadata": {},
   "outputs": [
    {
     "data": {
      "text/plain": [
       "(59085, 15)"
      ]
     },
     "execution_count": 236,
     "metadata": {},
     "output_type": "execute_result"
    }
   ],
   "source": [
    "df_cleaned.shape"
   ]
  },
  {
   "cell_type": "code",
   "execution_count": 237,
   "id": "e01c4804-a155-4a56-8643-1359701fafbd",
   "metadata": {},
   "outputs": [
    {
     "name": "stdout",
     "output_type": "stream",
     "text": [
      "Unique values in 'type' column:\n",
      "['Buy' 'Sell' 'sell' 'buy']\n"
     ]
    }
   ],
   "source": [
    "# Get unique values from the 'type' column\n",
    "unique_types = df_cleaned['type'].unique()\n",
    "\n",
    "# Print the unique values\n",
    "print(\"Unique values in 'type' column:\")\n",
    "print(unique_types)\n"
   ]
  },
  {
   "cell_type": "code",
   "execution_count": 238,
   "id": "6966eaec-8348-46b6-a029-7741138cab58",
   "metadata": {},
   "outputs": [
    {
     "name": "stdout",
     "output_type": "stream",
     "text": [
      "Fixed unique values in 'type' column:\n",
      "['buy' 'sell']\n"
     ]
    }
   ],
   "source": [
    "# Convert all values in the 'type' column to lowercase\n",
    "df_cleaned['type'] = df_cleaned['type'].str.lower()\n",
    "\n",
    "# Check the unique values again\n",
    "unique_types = df_cleaned['type'].unique()\n",
    "print(\"Fixed unique values in 'type' column:\")\n",
    "print(unique_types)"
   ]
  },
  {
   "cell_type": "code",
   "execution_count": 239,
   "id": "ccbe063c-c86e-4670-9882-61dcbc4ac020",
   "metadata": {},
   "outputs": [
    {
     "name": "stdout",
     "output_type": "stream",
     "text": [
      "Maximum Volume: 100000\n",
      "Minimum Volume: 1\n"
     ]
    }
   ],
   "source": [
    "max_volume = df_cleaned['volume'].max()\n",
    "min_volume = df_cleaned['volume'].min()\n",
    "\n",
    "print(f\"Maximum Volume: {max_volume}\")\n",
    "print(f\"Minimum Volume: {min_volume}\")"
   ]
  },
  {
   "cell_type": "code",
   "execution_count": 240,
   "id": "686d16ee-fe6a-441e-a77a-d20dd4295ec7",
   "metadata": {},
   "outputs": [],
   "source": [
    "# Compute trade duration in hour\n",
    "df_cleaned['trade_duration'] = (df_cleaned['close_time'] - df_cleaned['open_time']).dt.total_seconds() / 3600  "
   ]
  },
  {
   "cell_type": "code",
   "execution_count": 241,
   "id": "01633948-e1cf-461a-a1f6-f0d0dffe1ff9",
   "metadata": {},
   "outputs": [
    {
     "data": {
      "text/html": [
       "<div>\n",
       "<style scoped>\n",
       "    .dataframe tbody tr th:only-of-type {\n",
       "        vertical-align: middle;\n",
       "    }\n",
       "\n",
       "    .dataframe tbody tr th {\n",
       "        vertical-align: top;\n",
       "    }\n",
       "\n",
       "    .dataframe thead th {\n",
       "        text-align: right;\n",
       "    }\n",
       "</style>\n",
       "<table border=\"1\" class=\"dataframe\">\n",
       "  <thead>\n",
       "    <tr style=\"text-align: right;\">\n",
       "      <th></th>\n",
       "      <th>login</th>\n",
       "      <th>ticket</th>\n",
       "      <th>symbol</th>\n",
       "      <th>type</th>\n",
       "      <th>open_time</th>\n",
       "      <th>close_time</th>\n",
       "      <th>open_price</th>\n",
       "      <th>close_price</th>\n",
       "      <th>stop_loss</th>\n",
       "      <th>take_profit</th>\n",
       "      <th>pips</th>\n",
       "      <th>reason</th>\n",
       "      <th>volume</th>\n",
       "      <th>profit</th>\n",
       "      <th>month_year</th>\n",
       "      <th>trade_duration</th>\n",
       "    </tr>\n",
       "  </thead>\n",
       "  <tbody>\n",
       "    <tr>\n",
       "      <th>0</th>\n",
       "      <td>11173702</td>\n",
       "      <td>47345780</td>\n",
       "      <td>XAUUSD</td>\n",
       "      <td>buy</td>\n",
       "      <td>2024-07-30 11:05:29</td>\n",
       "      <td>2024-07-31 07:58:09</td>\n",
       "      <td>2391.28</td>\n",
       "      <td>2420.69</td>\n",
       "      <td>2367.62</td>\n",
       "      <td>2420.64</td>\n",
       "      <td>2936.0</td>\n",
       "      <td>4</td>\n",
       "      <td>190</td>\n",
       "      <td>5578.40</td>\n",
       "      <td>2024-07</td>\n",
       "      <td>20.877778</td>\n",
       "    </tr>\n",
       "    <tr>\n",
       "      <th>1</th>\n",
       "      <td>11173702</td>\n",
       "      <td>47718163</td>\n",
       "      <td>XAUUSD</td>\n",
       "      <td>buy</td>\n",
       "      <td>2024-07-31 09:46:04</td>\n",
       "      <td>2024-07-31 21:42:15</td>\n",
       "      <td>2421.81</td>\n",
       "      <td>2431.41</td>\n",
       "      <td>2399.23</td>\n",
       "      <td>2431.41</td>\n",
       "      <td>960.0</td>\n",
       "      <td>4</td>\n",
       "      <td>200</td>\n",
       "      <td>1920.00</td>\n",
       "      <td>2024-07</td>\n",
       "      <td>11.936389</td>\n",
       "    </tr>\n",
       "    <tr>\n",
       "      <th>2</th>\n",
       "      <td>11173702</td>\n",
       "      <td>50360070</td>\n",
       "      <td>XAUUSD</td>\n",
       "      <td>sell</td>\n",
       "      <td>2024-08-13 13:03:27</td>\n",
       "      <td>2024-08-14 15:24:08</td>\n",
       "      <td>2460.93</td>\n",
       "      <td>2472.80</td>\n",
       "      <td>2480.93</td>\n",
       "      <td>2451.37</td>\n",
       "      <td>-1199.0</td>\n",
       "      <td>0</td>\n",
       "      <td>200</td>\n",
       "      <td>-2398.00</td>\n",
       "      <td>2024-08</td>\n",
       "      <td>26.344722</td>\n",
       "    </tr>\n",
       "    <tr>\n",
       "      <th>3</th>\n",
       "      <td>11173702</td>\n",
       "      <td>51120570</td>\n",
       "      <td>XAUUSD</td>\n",
       "      <td>buy</td>\n",
       "      <td>2024-08-19 13:27:40</td>\n",
       "      <td>2024-08-19 16:37:12</td>\n",
       "      <td>2495.80</td>\n",
       "      <td>2485.65</td>\n",
       "      <td>2485.71</td>\n",
       "      <td>2508.16</td>\n",
       "      <td>-1012.0</td>\n",
       "      <td>3</td>\n",
       "      <td>190</td>\n",
       "      <td>-1922.80</td>\n",
       "      <td>2024-08</td>\n",
       "      <td>3.158889</td>\n",
       "    </tr>\n",
       "    <tr>\n",
       "      <th>4</th>\n",
       "      <td>11173702</td>\n",
       "      <td>52180073</td>\n",
       "      <td>XAUUSD</td>\n",
       "      <td>sell</td>\n",
       "      <td>2024-08-28 02:30:32</td>\n",
       "      <td>2024-08-28 15:29:39</td>\n",
       "      <td>2526.53</td>\n",
       "      <td>2496.42</td>\n",
       "      <td>2537.07</td>\n",
       "      <td>2496.82</td>\n",
       "      <td>2971.0</td>\n",
       "      <td>4</td>\n",
       "      <td>189</td>\n",
       "      <td>5615.19</td>\n",
       "      <td>2024-08</td>\n",
       "      <td>12.985278</td>\n",
       "    </tr>\n",
       "  </tbody>\n",
       "</table>\n",
       "</div>"
      ],
      "text/plain": [
       "      login    ticket  symbol  type           open_time          close_time  \\\n",
       "0  11173702  47345780  XAUUSD   buy 2024-07-30 11:05:29 2024-07-31 07:58:09   \n",
       "1  11173702  47718163  XAUUSD   buy 2024-07-31 09:46:04 2024-07-31 21:42:15   \n",
       "2  11173702  50360070  XAUUSD  sell 2024-08-13 13:03:27 2024-08-14 15:24:08   \n",
       "3  11173702  51120570  XAUUSD   buy 2024-08-19 13:27:40 2024-08-19 16:37:12   \n",
       "4  11173702  52180073  XAUUSD  sell 2024-08-28 02:30:32 2024-08-28 15:29:39   \n",
       "\n",
       "   open_price  close_price  stop_loss  take_profit    pips  reason  volume  \\\n",
       "0     2391.28      2420.69    2367.62      2420.64  2936.0       4     190   \n",
       "1     2421.81      2431.41    2399.23      2431.41   960.0       4     200   \n",
       "2     2460.93      2472.80    2480.93      2451.37 -1199.0       0     200   \n",
       "3     2495.80      2485.65    2485.71      2508.16 -1012.0       3     190   \n",
       "4     2526.53      2496.42    2537.07      2496.82  2971.0       4     189   \n",
       "\n",
       "    profit month_year  trade_duration  \n",
       "0  5578.40    2024-07       20.877778  \n",
       "1  1920.00    2024-07       11.936389  \n",
       "2 -2398.00    2024-08       26.344722  \n",
       "3 -1922.80    2024-08        3.158889  \n",
       "4  5615.19    2024-08       12.985278  "
      ]
     },
     "execution_count": 241,
     "metadata": {},
     "output_type": "execute_result"
    }
   ],
   "source": [
    "df_cleaned.head()"
   ]
  },
  {
   "cell_type": "code",
   "execution_count": 242,
   "id": "a6cfc747-4da2-4830-b234-5dd3f91629ec",
   "metadata": {},
   "outputs": [
    {
     "data": {
      "text/plain": [
       "login             0\n",
       "ticket            0\n",
       "symbol            0\n",
       "type              0\n",
       "open_time         0\n",
       "close_time        0\n",
       "open_price        0\n",
       "close_price       0\n",
       "stop_loss         0\n",
       "take_profit       0\n",
       "pips              0\n",
       "reason            0\n",
       "volume            0\n",
       "profit            0\n",
       "month_year        0\n",
       "trade_duration    0\n",
       "dtype: int64"
      ]
     },
     "execution_count": 242,
     "metadata": {},
     "output_type": "execute_result"
    }
   ],
   "source": [
    "df_cleaned.isnull().sum()"
   ]
  },
  {
   "cell_type": "code",
   "execution_count": 243,
   "id": "f46bb32d-b141-42b4-a98a-41871edbe2db",
   "metadata": {},
   "outputs": [
    {
     "data": {
      "text/html": [
       "<div>\n",
       "<style scoped>\n",
       "    .dataframe tbody tr th:only-of-type {\n",
       "        vertical-align: middle;\n",
       "    }\n",
       "\n",
       "    .dataframe tbody tr th {\n",
       "        vertical-align: top;\n",
       "    }\n",
       "\n",
       "    .dataframe thead th {\n",
       "        text-align: right;\n",
       "    }\n",
       "</style>\n",
       "<table border=\"1\" class=\"dataframe\">\n",
       "  <thead>\n",
       "    <tr style=\"text-align: right;\">\n",
       "      <th></th>\n",
       "      <th>login</th>\n",
       "      <th>ticket</th>\n",
       "      <th>symbol</th>\n",
       "      <th>type</th>\n",
       "      <th>open_time</th>\n",
       "      <th>close_time</th>\n",
       "      <th>open_price</th>\n",
       "      <th>close_price</th>\n",
       "      <th>stop_loss</th>\n",
       "      <th>take_profit</th>\n",
       "      <th>pips</th>\n",
       "      <th>reason</th>\n",
       "      <th>volume</th>\n",
       "      <th>profit</th>\n",
       "      <th>month_year</th>\n",
       "      <th>trade_duration</th>\n",
       "      <th>cumulative_profit</th>\n",
       "    </tr>\n",
       "  </thead>\n",
       "  <tbody>\n",
       "    <tr>\n",
       "      <th>0</th>\n",
       "      <td>11173702</td>\n",
       "      <td>47345780</td>\n",
       "      <td>XAUUSD</td>\n",
       "      <td>buy</td>\n",
       "      <td>2024-07-30 11:05:29</td>\n",
       "      <td>2024-07-31 07:58:09</td>\n",
       "      <td>2391.28</td>\n",
       "      <td>2420.69</td>\n",
       "      <td>2367.62</td>\n",
       "      <td>2420.64</td>\n",
       "      <td>2936.0</td>\n",
       "      <td>4</td>\n",
       "      <td>190</td>\n",
       "      <td>5578.40</td>\n",
       "      <td>2024-07</td>\n",
       "      <td>20.877778</td>\n",
       "      <td>5578.40</td>\n",
       "    </tr>\n",
       "    <tr>\n",
       "      <th>1</th>\n",
       "      <td>11173702</td>\n",
       "      <td>47718163</td>\n",
       "      <td>XAUUSD</td>\n",
       "      <td>buy</td>\n",
       "      <td>2024-07-31 09:46:04</td>\n",
       "      <td>2024-07-31 21:42:15</td>\n",
       "      <td>2421.81</td>\n",
       "      <td>2431.41</td>\n",
       "      <td>2399.23</td>\n",
       "      <td>2431.41</td>\n",
       "      <td>960.0</td>\n",
       "      <td>4</td>\n",
       "      <td>200</td>\n",
       "      <td>1920.00</td>\n",
       "      <td>2024-07</td>\n",
       "      <td>11.936389</td>\n",
       "      <td>7498.40</td>\n",
       "    </tr>\n",
       "    <tr>\n",
       "      <th>2</th>\n",
       "      <td>11173702</td>\n",
       "      <td>50360070</td>\n",
       "      <td>XAUUSD</td>\n",
       "      <td>sell</td>\n",
       "      <td>2024-08-13 13:03:27</td>\n",
       "      <td>2024-08-14 15:24:08</td>\n",
       "      <td>2460.93</td>\n",
       "      <td>2472.80</td>\n",
       "      <td>2480.93</td>\n",
       "      <td>2451.37</td>\n",
       "      <td>-1199.0</td>\n",
       "      <td>0</td>\n",
       "      <td>200</td>\n",
       "      <td>-2398.00</td>\n",
       "      <td>2024-08</td>\n",
       "      <td>26.344722</td>\n",
       "      <td>5100.40</td>\n",
       "    </tr>\n",
       "    <tr>\n",
       "      <th>3</th>\n",
       "      <td>11173702</td>\n",
       "      <td>51120570</td>\n",
       "      <td>XAUUSD</td>\n",
       "      <td>buy</td>\n",
       "      <td>2024-08-19 13:27:40</td>\n",
       "      <td>2024-08-19 16:37:12</td>\n",
       "      <td>2495.80</td>\n",
       "      <td>2485.65</td>\n",
       "      <td>2485.71</td>\n",
       "      <td>2508.16</td>\n",
       "      <td>-1012.0</td>\n",
       "      <td>3</td>\n",
       "      <td>190</td>\n",
       "      <td>-1922.80</td>\n",
       "      <td>2024-08</td>\n",
       "      <td>3.158889</td>\n",
       "      <td>3177.60</td>\n",
       "    </tr>\n",
       "    <tr>\n",
       "      <th>4</th>\n",
       "      <td>11173702</td>\n",
       "      <td>52180073</td>\n",
       "      <td>XAUUSD</td>\n",
       "      <td>sell</td>\n",
       "      <td>2024-08-28 02:30:32</td>\n",
       "      <td>2024-08-28 15:29:39</td>\n",
       "      <td>2526.53</td>\n",
       "      <td>2496.42</td>\n",
       "      <td>2537.07</td>\n",
       "      <td>2496.82</td>\n",
       "      <td>2971.0</td>\n",
       "      <td>4</td>\n",
       "      <td>189</td>\n",
       "      <td>5615.19</td>\n",
       "      <td>2024-08</td>\n",
       "      <td>12.985278</td>\n",
       "      <td>8792.79</td>\n",
       "    </tr>\n",
       "    <tr>\n",
       "      <th>5</th>\n",
       "      <td>11173702</td>\n",
       "      <td>52365859</td>\n",
       "      <td>XAUUSD</td>\n",
       "      <td>sell</td>\n",
       "      <td>2024-08-29 11:21:25</td>\n",
       "      <td>2024-08-29 12:53:08</td>\n",
       "      <td>2518.25</td>\n",
       "      <td>2524.44</td>\n",
       "      <td>2524.52</td>\n",
       "      <td>2509.65</td>\n",
       "      <td>-634.0</td>\n",
       "      <td>3</td>\n",
       "      <td>200</td>\n",
       "      <td>-1268.00</td>\n",
       "      <td>2024-08</td>\n",
       "      <td>1.528611</td>\n",
       "      <td>7524.79</td>\n",
       "    </tr>\n",
       "    <tr>\n",
       "      <th>6</th>\n",
       "      <td>11173702</td>\n",
       "      <td>52638929</td>\n",
       "      <td>XAUUSD</td>\n",
       "      <td>sell</td>\n",
       "      <td>2024-09-02 12:29:41</td>\n",
       "      <td>2024-09-03 04:13:46</td>\n",
       "      <td>2501.33</td>\n",
       "      <td>2491.58</td>\n",
       "      <td>2519.00</td>\n",
       "      <td>2491.58</td>\n",
       "      <td>975.0</td>\n",
       "      <td>4</td>\n",
       "      <td>199</td>\n",
       "      <td>1940.25</td>\n",
       "      <td>2024-09</td>\n",
       "      <td>15.734722</td>\n",
       "      <td>9465.04</td>\n",
       "    </tr>\n",
       "    <tr>\n",
       "      <th>7</th>\n",
       "      <td>11173702</td>\n",
       "      <td>52745364</td>\n",
       "      <td>XAUUSD</td>\n",
       "      <td>buy</td>\n",
       "      <td>2024-09-03 13:33:39</td>\n",
       "      <td>2024-09-03 17:19:02</td>\n",
       "      <td>2495.73</td>\n",
       "      <td>2475.59</td>\n",
       "      <td>2475.57</td>\n",
       "      <td>2513.74</td>\n",
       "      <td>-2025.0</td>\n",
       "      <td>3</td>\n",
       "      <td>200</td>\n",
       "      <td>-4050.00</td>\n",
       "      <td>2024-09</td>\n",
       "      <td>3.756389</td>\n",
       "      <td>5415.04</td>\n",
       "    </tr>\n",
       "    <tr>\n",
       "      <th>8</th>\n",
       "      <td>11173702</td>\n",
       "      <td>53330276</td>\n",
       "      <td>XAUUSD</td>\n",
       "      <td>buy</td>\n",
       "      <td>2024-09-09 18:09:18</td>\n",
       "      <td>2024-09-11 09:40:01</td>\n",
       "      <td>2497.30</td>\n",
       "      <td>2528.54</td>\n",
       "      <td>2475.84</td>\n",
       "      <td>2528.37</td>\n",
       "      <td>3107.0</td>\n",
       "      <td>4</td>\n",
       "      <td>190</td>\n",
       "      <td>5903.30</td>\n",
       "      <td>2024-09</td>\n",
       "      <td>39.511944</td>\n",
       "      <td>11318.34</td>\n",
       "    </tr>\n",
       "    <tr>\n",
       "      <th>9</th>\n",
       "      <td>11173702</td>\n",
       "      <td>54456088</td>\n",
       "      <td>XAUUSD</td>\n",
       "      <td>sell</td>\n",
       "      <td>2024-09-23 18:34:08</td>\n",
       "      <td>2024-09-24 17:53:18</td>\n",
       "      <td>2630.72</td>\n",
       "      <td>2646.60</td>\n",
       "      <td>2646.64</td>\n",
       "      <td>2619.43</td>\n",
       "      <td>-1592.0</td>\n",
       "      <td>3</td>\n",
       "      <td>190</td>\n",
       "      <td>-3024.80</td>\n",
       "      <td>2024-09</td>\n",
       "      <td>23.319444</td>\n",
       "      <td>8293.54</td>\n",
       "    </tr>\n",
       "    <tr>\n",
       "      <th>10</th>\n",
       "      <td>11173702</td>\n",
       "      <td>55109207</td>\n",
       "      <td>XAUUSD</td>\n",
       "      <td>sell</td>\n",
       "      <td>2024-10-02 16:38:03</td>\n",
       "      <td>2024-10-02 18:07:04</td>\n",
       "      <td>2658.31</td>\n",
       "      <td>2643.56</td>\n",
       "      <td>2673.60</td>\n",
       "      <td>2643.71</td>\n",
       "      <td>1460.0</td>\n",
       "      <td>4</td>\n",
       "      <td>182</td>\n",
       "      <td>2657.20</td>\n",
       "      <td>2024-10</td>\n",
       "      <td>1.483611</td>\n",
       "      <td>10950.74</td>\n",
       "    </tr>\n",
       "    <tr>\n",
       "      <th>11</th>\n",
       "      <td>11173702</td>\n",
       "      <td>55248647</td>\n",
       "      <td>XAUUSD</td>\n",
       "      <td>buy</td>\n",
       "      <td>2024-10-04 15:30:05</td>\n",
       "      <td>2024-10-04 22:12:35</td>\n",
       "      <td>2648.11</td>\n",
       "      <td>2645.87</td>\n",
       "      <td>2628.80</td>\n",
       "      <td>2671.68</td>\n",
       "      <td>-224.0</td>\n",
       "      <td>0</td>\n",
       "      <td>182</td>\n",
       "      <td>-407.68</td>\n",
       "      <td>2024-10</td>\n",
       "      <td>6.708333</td>\n",
       "      <td>10543.06</td>\n",
       "    </tr>\n",
       "    <tr>\n",
       "      <th>12</th>\n",
       "      <td>11173702</td>\n",
       "      <td>55322827</td>\n",
       "      <td>XAUUSD</td>\n",
       "      <td>sell</td>\n",
       "      <td>2024-10-07 09:11:28</td>\n",
       "      <td>2024-10-07 13:16:32</td>\n",
       "      <td>2641.30</td>\n",
       "      <td>2658.23</td>\n",
       "      <td>2658.25</td>\n",
       "      <td>2618.31</td>\n",
       "      <td>-1695.0</td>\n",
       "      <td>3</td>\n",
       "      <td>180</td>\n",
       "      <td>-3051.00</td>\n",
       "      <td>2024-10</td>\n",
       "      <td>4.084444</td>\n",
       "      <td>7492.06</td>\n",
       "    </tr>\n",
       "    <tr>\n",
       "      <th>13</th>\n",
       "      <td>11173702</td>\n",
       "      <td>55423715</td>\n",
       "      <td>XAUUSD</td>\n",
       "      <td>sell</td>\n",
       "      <td>2024-10-08 13:56:00</td>\n",
       "      <td>2024-10-08 17:23:21</td>\n",
       "      <td>2646.71</td>\n",
       "      <td>2631.04</td>\n",
       "      <td>2658.68</td>\n",
       "      <td>2631.04</td>\n",
       "      <td>1567.0</td>\n",
       "      <td>4</td>\n",
       "      <td>180</td>\n",
       "      <td>2820.60</td>\n",
       "      <td>2024-10</td>\n",
       "      <td>3.455833</td>\n",
       "      <td>10312.66</td>\n",
       "    </tr>\n",
       "    <tr>\n",
       "      <th>14</th>\n",
       "      <td>11173702</td>\n",
       "      <td>55472765</td>\n",
       "      <td>XAUUSD</td>\n",
       "      <td>sell</td>\n",
       "      <td>2024-10-08 18:37:08</td>\n",
       "      <td>2024-10-10 16:05:02</td>\n",
       "      <td>2607.62</td>\n",
       "      <td>2627.68</td>\n",
       "      <td>2627.62</td>\n",
       "      <td>2585.65</td>\n",
       "      <td>-2000.0</td>\n",
       "      <td>3</td>\n",
       "      <td>184</td>\n",
       "      <td>-3680.00</td>\n",
       "      <td>2024-10</td>\n",
       "      <td>45.465000</td>\n",
       "      <td>6632.66</td>\n",
       "    </tr>\n",
       "    <tr>\n",
       "      <th>15</th>\n",
       "      <td>11173702</td>\n",
       "      <td>55772883</td>\n",
       "      <td>XAUUSD</td>\n",
       "      <td>buy</td>\n",
       "      <td>2024-10-14 17:18:40</td>\n",
       "      <td>2024-10-14 17:20:18</td>\n",
       "      <td>2648.24</td>\n",
       "      <td>2646.42</td>\n",
       "      <td>2646.43</td>\n",
       "      <td>2672.81</td>\n",
       "      <td>-181.0</td>\n",
       "      <td>3</td>\n",
       "      <td>178</td>\n",
       "      <td>-322.18</td>\n",
       "      <td>2024-10</td>\n",
       "      <td>0.027222</td>\n",
       "      <td>6310.48</td>\n",
       "    </tr>\n",
       "    <tr>\n",
       "      <th>16</th>\n",
       "      <td>11173702</td>\n",
       "      <td>55775234</td>\n",
       "      <td>XAUUSD</td>\n",
       "      <td>buy</td>\n",
       "      <td>2024-10-15 08:02:34</td>\n",
       "      <td>2024-10-15 19:24:34</td>\n",
       "      <td>2642.61</td>\n",
       "      <td>2667.12</td>\n",
       "      <td>2615.30</td>\n",
       "      <td>2672.15</td>\n",
       "      <td>2451.0</td>\n",
       "      <td>0</td>\n",
       "      <td>100</td>\n",
       "      <td>2451.00</td>\n",
       "      <td>2024-10</td>\n",
       "      <td>11.366667</td>\n",
       "      <td>8761.48</td>\n",
       "    </tr>\n",
       "    <tr>\n",
       "      <th>17</th>\n",
       "      <td>11173702</td>\n",
       "      <td>55982404</td>\n",
       "      <td>XAUUSD</td>\n",
       "      <td>sell</td>\n",
       "      <td>2024-10-17 16:58:09</td>\n",
       "      <td>2024-10-18 04:35:26</td>\n",
       "      <td>2689.57</td>\n",
       "      <td>2703.73</td>\n",
       "      <td>2703.55</td>\n",
       "      <td>2673.99</td>\n",
       "      <td>-1404.0</td>\n",
       "      <td>3</td>\n",
       "      <td>180</td>\n",
       "      <td>-2527.20</td>\n",
       "      <td>2024-10</td>\n",
       "      <td>11.621389</td>\n",
       "      <td>6234.28</td>\n",
       "    </tr>\n",
       "    <tr>\n",
       "      <th>18</th>\n",
       "      <td>11173702</td>\n",
       "      <td>56277088</td>\n",
       "      <td>XAUUSD</td>\n",
       "      <td>sell</td>\n",
       "      <td>2024-10-23 13:56:08</td>\n",
       "      <td>2024-10-23 18:00:37</td>\n",
       "      <td>2751.68</td>\n",
       "      <td>2715.40</td>\n",
       "      <td>2763.88</td>\n",
       "      <td>2715.45</td>\n",
       "      <td>3623.0</td>\n",
       "      <td>4</td>\n",
       "      <td>172</td>\n",
       "      <td>6231.56</td>\n",
       "      <td>2024-10</td>\n",
       "      <td>4.074722</td>\n",
       "      <td>12465.84</td>\n",
       "    </tr>\n",
       "    <tr>\n",
       "      <th>19</th>\n",
       "      <td>11173702</td>\n",
       "      <td>56411927</td>\n",
       "      <td>XAUUSD</td>\n",
       "      <td>buy</td>\n",
       "      <td>2024-10-25 11:36:40</td>\n",
       "      <td>2024-10-25 20:54:16</td>\n",
       "      <td>2720.20</td>\n",
       "      <td>2744.22</td>\n",
       "      <td>2704.54</td>\n",
       "      <td>2744.14</td>\n",
       "      <td>2394.0</td>\n",
       "      <td>4</td>\n",
       "      <td>182</td>\n",
       "      <td>4357.08</td>\n",
       "      <td>2024-10</td>\n",
       "      <td>9.293333</td>\n",
       "      <td>16822.92</td>\n",
       "    </tr>\n",
       "  </tbody>\n",
       "</table>\n",
       "</div>"
      ],
      "text/plain": [
       "       login    ticket  symbol  type           open_time          close_time  \\\n",
       "0   11173702  47345780  XAUUSD   buy 2024-07-30 11:05:29 2024-07-31 07:58:09   \n",
       "1   11173702  47718163  XAUUSD   buy 2024-07-31 09:46:04 2024-07-31 21:42:15   \n",
       "2   11173702  50360070  XAUUSD  sell 2024-08-13 13:03:27 2024-08-14 15:24:08   \n",
       "3   11173702  51120570  XAUUSD   buy 2024-08-19 13:27:40 2024-08-19 16:37:12   \n",
       "4   11173702  52180073  XAUUSD  sell 2024-08-28 02:30:32 2024-08-28 15:29:39   \n",
       "5   11173702  52365859  XAUUSD  sell 2024-08-29 11:21:25 2024-08-29 12:53:08   \n",
       "6   11173702  52638929  XAUUSD  sell 2024-09-02 12:29:41 2024-09-03 04:13:46   \n",
       "7   11173702  52745364  XAUUSD   buy 2024-09-03 13:33:39 2024-09-03 17:19:02   \n",
       "8   11173702  53330276  XAUUSD   buy 2024-09-09 18:09:18 2024-09-11 09:40:01   \n",
       "9   11173702  54456088  XAUUSD  sell 2024-09-23 18:34:08 2024-09-24 17:53:18   \n",
       "10  11173702  55109207  XAUUSD  sell 2024-10-02 16:38:03 2024-10-02 18:07:04   \n",
       "11  11173702  55248647  XAUUSD   buy 2024-10-04 15:30:05 2024-10-04 22:12:35   \n",
       "12  11173702  55322827  XAUUSD  sell 2024-10-07 09:11:28 2024-10-07 13:16:32   \n",
       "13  11173702  55423715  XAUUSD  sell 2024-10-08 13:56:00 2024-10-08 17:23:21   \n",
       "14  11173702  55472765  XAUUSD  sell 2024-10-08 18:37:08 2024-10-10 16:05:02   \n",
       "15  11173702  55772883  XAUUSD   buy 2024-10-14 17:18:40 2024-10-14 17:20:18   \n",
       "16  11173702  55775234  XAUUSD   buy 2024-10-15 08:02:34 2024-10-15 19:24:34   \n",
       "17  11173702  55982404  XAUUSD  sell 2024-10-17 16:58:09 2024-10-18 04:35:26   \n",
       "18  11173702  56277088  XAUUSD  sell 2024-10-23 13:56:08 2024-10-23 18:00:37   \n",
       "19  11173702  56411927  XAUUSD   buy 2024-10-25 11:36:40 2024-10-25 20:54:16   \n",
       "\n",
       "    open_price  close_price  stop_loss  take_profit    pips  reason  volume  \\\n",
       "0      2391.28      2420.69    2367.62      2420.64  2936.0       4     190   \n",
       "1      2421.81      2431.41    2399.23      2431.41   960.0       4     200   \n",
       "2      2460.93      2472.80    2480.93      2451.37 -1199.0       0     200   \n",
       "3      2495.80      2485.65    2485.71      2508.16 -1012.0       3     190   \n",
       "4      2526.53      2496.42    2537.07      2496.82  2971.0       4     189   \n",
       "5      2518.25      2524.44    2524.52      2509.65  -634.0       3     200   \n",
       "6      2501.33      2491.58    2519.00      2491.58   975.0       4     199   \n",
       "7      2495.73      2475.59    2475.57      2513.74 -2025.0       3     200   \n",
       "8      2497.30      2528.54    2475.84      2528.37  3107.0       4     190   \n",
       "9      2630.72      2646.60    2646.64      2619.43 -1592.0       3     190   \n",
       "10     2658.31      2643.56    2673.60      2643.71  1460.0       4     182   \n",
       "11     2648.11      2645.87    2628.80      2671.68  -224.0       0     182   \n",
       "12     2641.30      2658.23    2658.25      2618.31 -1695.0       3     180   \n",
       "13     2646.71      2631.04    2658.68      2631.04  1567.0       4     180   \n",
       "14     2607.62      2627.68    2627.62      2585.65 -2000.0       3     184   \n",
       "15     2648.24      2646.42    2646.43      2672.81  -181.0       3     178   \n",
       "16     2642.61      2667.12    2615.30      2672.15  2451.0       0     100   \n",
       "17     2689.57      2703.73    2703.55      2673.99 -1404.0       3     180   \n",
       "18     2751.68      2715.40    2763.88      2715.45  3623.0       4     172   \n",
       "19     2720.20      2744.22    2704.54      2744.14  2394.0       4     182   \n",
       "\n",
       "     profit month_year  trade_duration  cumulative_profit  \n",
       "0   5578.40    2024-07       20.877778            5578.40  \n",
       "1   1920.00    2024-07       11.936389            7498.40  \n",
       "2  -2398.00    2024-08       26.344722            5100.40  \n",
       "3  -1922.80    2024-08        3.158889            3177.60  \n",
       "4   5615.19    2024-08       12.985278            8792.79  \n",
       "5  -1268.00    2024-08        1.528611            7524.79  \n",
       "6   1940.25    2024-09       15.734722            9465.04  \n",
       "7  -4050.00    2024-09        3.756389            5415.04  \n",
       "8   5903.30    2024-09       39.511944           11318.34  \n",
       "9  -3024.80    2024-09       23.319444            8293.54  \n",
       "10  2657.20    2024-10        1.483611           10950.74  \n",
       "11  -407.68    2024-10        6.708333           10543.06  \n",
       "12 -3051.00    2024-10        4.084444            7492.06  \n",
       "13  2820.60    2024-10        3.455833           10312.66  \n",
       "14 -3680.00    2024-10       45.465000            6632.66  \n",
       "15  -322.18    2024-10        0.027222            6310.48  \n",
       "16  2451.00    2024-10       11.366667            8761.48  \n",
       "17 -2527.20    2024-10       11.621389            6234.28  \n",
       "18  6231.56    2024-10        4.074722           12465.84  \n",
       "19  4357.08    2024-10        9.293333           16822.92  "
      ]
     },
     "execution_count": 243,
     "metadata": {},
     "output_type": "execute_result"
    }
   ],
   "source": [
    "# Cumulative profit per login\n",
    "df_cleaned['cumulative_profit'] = df.groupby('login')['profit'].cumsum()\n",
    "df_cleaned.head(20)"
   ]
  },
  {
   "cell_type": "code",
   "execution_count": 244,
   "id": "8579b049-ee3f-4eb6-b5eb-5aa3716deefd",
   "metadata": {},
   "outputs": [
    {
     "name": "stdout",
     "output_type": "stream",
     "text": [
      "\n",
      "Most Profitable Login: 13378390 with total profit 49894.12\n",
      "Least Profitable Login: 13103928 with total profit -14778.82\n"
     ]
    }
   ],
   "source": [
    "# Identify most and least profitable logins\n",
    "profit_per_login = df_cleaned.groupby('login')['profit'].sum().sort_values(ascending=False)\n",
    "most_profitable = profit_per_login.idxmax()\n",
    "least_profitable = profit_per_login.idxmin()\n",
    "\n",
    "print(f\"\\nMost Profitable Login: {most_profitable} with total profit {profit_per_login.max():.2f}\")\n",
    "print(f\"Least Profitable Login: {least_profitable} with total profit {profit_per_login.min():.2f}\")\n"
   ]
  },
  {
   "cell_type": "code",
   "execution_count": 245,
   "id": "ac95eac5-4488-4091-a472-ac7dec0ba3cc",
   "metadata": {},
   "outputs": [
    {
     "name": "stdout",
     "output_type": "stream",
     "text": [
      "        login  cumulative_profit  rank\n",
      "397  13378396           53891.98   1.0\n",
      "0    11173702           33109.69   2.0\n",
      "31   13047591           31070.50   3.0\n",
      "556  55012102           30911.51   4.0\n",
      "459  13408520           28537.00   5.0\n"
     ]
    }
   ],
   "source": [
    "# Group by 'login' and calculate total cumulative profit for each login\n",
    "login_cumulative_profit = df_cleaned.groupby('login')['cumulative_profit'].max().reset_index()\n",
    "\n",
    "# Sort the logins based on cumulative profit in descending order\n",
    "login_cumulative_profit_sorted = login_cumulative_profit.sort_values(by='cumulative_profit', ascending=False)\n",
    "\n",
    "# Add a 'rank' column to rank the logins based on cumulative profit\n",
    "login_cumulative_profit_sorted['rank'] = login_cumulative_profit_sorted['cumulative_profit'].rank(ascending=False)\n",
    "\n",
    "# Display the ranked logins\n",
    "print(login_cumulative_profit_sorted.head())  # Display the top 20 ranked logins\n"
   ]
  },
  {
   "cell_type": "code",
   "execution_count": 267,
   "id": "849e0ed5-a814-449e-a951-6e3dc128c0fc",
   "metadata": {},
   "outputs": [
    {
     "name": "stderr",
     "output_type": "stream",
     "text": [
      "C:\\Users\\MUMU\\AppData\\Local\\Temp\\ipykernel_18044\\2325596969.py:13: FutureWarning: \n",
      "\n",
      "Passing `palette` without assigning `hue` is deprecated and will be removed in v0.14.0. Assign the `x` variable to `hue` and set `legend=False` for the same effect.\n",
      "\n",
      "  sns.barplot(x='login', y='profit', data=login_profit_sorted, palette='viridis')\n"
     ]
    },
    {
     "data": {
      "image/png": "[encoded data removed]",
      "text/plain": [
       "<Figure size 1200x600 with 1 Axes>"
      ]
     },
     "metadata": {},
     "output_type": "display_data"
    }
   ],
   "source": [
    "import seaborn as sns\n",
    "\n",
    "# Group by 'login' and sum the profits for each login\n",
    "login_profit = df_cleaned.groupby('login')['profit'].sum().reset_index()\n",
    "\n",
    "# Sort by profit in descending order to rank the logins by profitability\n",
    "login_profit_sorted = login_profit.sort_values(by='profit', ascending=False)\n",
    "\n",
    "# Visualize the distribution of total profits across logins\n",
    "plt.figure(figsize=(12, 6))\n",
    "\n",
    "# Barplot showing the total profit per login\n",
    "sns.barplot(x='login', y='profit', data=login_profit_sorted, palette='viridis')\n",
    "plt.title('Total Profit Across Different Logins')\n",
    "plt.xlabel('Login')\n",
    "plt.ylabel('Total Profit')\n",
    "plt.xticks(rotation=90)  \n",
    "plt.show()"
   ]
  },
  {
   "cell_type": "code",
   "execution_count": 266,
   "id": "a6581432-3d7f-4b29-b4d7-5ee59399de46",
   "metadata": {
    "scrolled": true
   },
   "outputs": [
    {
     "name": "stderr",
     "output_type": "stream",
     "text": [
      "C:\\Users\\MUMU\\AppData\\Local\\Temp\\ipykernel_18044\\1448830651.py:8: FutureWarning: \n",
      "\n",
      "Passing `palette` without assigning `hue` is deprecated and will be removed in v0.14.0. Assign the `x` variable to `hue` and set `legend=False` for the same effect.\n",
      "\n",
      "  sns.barplot(x='login', y='profit', data=login_profit_sorted_top, palette='viridis')\n"
     ]
    },
    {
     "data": {
      "image/png": "[encoded data removed]",
      "text/plain": [
       "<Figure size 1200x600 with 1 Axes>"
      ]
     },
     "metadata": {},
     "output_type": "display_data"
    }
   ],
   "source": [
    "# Select the top 50 most profitable logins\n",
    "top_n = 50\n",
    "login_profit_sorted_top = login_profit_sorted.head(top_n)\n",
    "\n",
    "plt.figure(figsize=(12, 6))\n",
    "\n",
    "# Barplot with sorted top logins\n",
    "sns.barplot(x='login', y='profit', data=login_profit_sorted_top, palette='viridis')\n",
    "plt.title(f'Top {top_n} Profitable Logins', fontsize=14)\n",
    "plt.xlabel('Login', fontsize=12)\n",
    "plt.ylabel('Total Profit', fontsize=12)\n",
    "plt.xticks(rotation=45, ha='right')  # Tilt labels for readability\n",
    "plt.grid(axis='y', linestyle='--', alpha=0.7) \n",
    "plt.show()\n"
   ]
  },
  {
   "cell_type": "code",
   "execution_count": 248,
   "id": "e339766d-f56b-472f-b624-1afd79355ec1",
   "metadata": {},
   "outputs": [
    {
     "name": "stderr",
     "output_type": "stream",
     "text": [
      "C:\\Users\\MUMU\\AppData\\Local\\Temp\\ipykernel_18044\\1935297185.py:21: FutureWarning: \n",
      "\n",
      "Passing `palette` without assigning `hue` is deprecated and will be removed in v0.14.0. Assign the `x` variable to `hue` and set `legend=False` for the same effect.\n",
      "\n",
      "  ax = sns.barplot(x='login', y='profit', data=top_20_combined, palette=colors)\n"
     ]
    },
    {
     "data": {
      "image/png": "[encoded data removed]",
      "text/plain": [
       "<Figure size 1400x600 with 1 Axes>"
      ]
     },
     "metadata": {},
     "output_type": "display_data"
    }
   ],
   "source": [
    "import seaborn as sns\n",
    "import matplotlib.pyplot as plt\n",
    "import pandas as pd\n",
    "\n",
    "# Select top 20 profitable logins\n",
    "top_20_profitable = login_profit_sorted.head(20)\n",
    "\n",
    "# Select top 20 loss-making (negative profit) logins\n",
    "top_20_loss_making = login_profit_sorted.tail(20)\n",
    "\n",
    "# Combine both datasets\n",
    "top_20_combined = pd.concat([top_20_loss_making, top_20_profitable])\n",
    "\n",
    "# Define colors: losses = red, profits = green\n",
    "colors = ['red' if p < 0 else 'green' for p in top_20_combined['profit']]\n",
    "\n",
    "# Set figure size\n",
    "plt.figure(figsize=(14, 6))\n",
    "\n",
    "# Vertical barplot with login on X-axis and profit on Y-axis\n",
    "ax = sns.barplot(x='login', y='profit', data=top_20_combined, palette=colors)\n",
    "\n",
    "# Titles and labels\n",
    "plt.title('Top 20 Profitable & Loss-Making Logins', fontsize=16, fontweight='bold')\n",
    "plt.ylabel('Total Profit', fontsize=14)\n",
    "plt.xlabel('Login', fontsize=14)\n",
    "\n",
    "# Rotate X-axis labels for better readability\n",
    "plt.xticks(rotation=45, ha='right')\n",
    "\n",
    "# Draw a horizontal line at 0 for clear profit/loss separation\n",
    "plt.axhline(y=0, color='black', linestyle='--', linewidth=1)\n",
    "\n",
    "# Add labels on bars\n",
    "for p in ax.patches:\n",
    "    ax.annotate(f'{p.get_height():,.0f}', \n",
    "                (p.get_x() + p.get_width() / 2, p.get_height()), \n",
    "                ha='center', va='bottom' if p.get_height() > 0 else 'top', \n",
    "                fontsize=6, color='black', weight='bold')\n",
    "\n",
    "# Improve grid visibility\n",
    "plt.grid(axis='y', linestyle='--', alpha=0.6)\n",
    "\n",
    "plt.show()\n"
   ]
  },
  {
   "cell_type": "code",
   "execution_count": 249,
   "id": "c5be6939-b98d-4b1d-88d0-c5c268c192db",
   "metadata": {},
   "outputs": [],
   "source": [
    "# Identify categorical columns\n",
    "categorical_cols = df_cleaned.select_dtypes(include=['object']).columns\n",
    "\n",
    "# Dictionary to store encoding mappings\n",
    "encoding_mappings = {}\n",
    "\n",
    "# Apply label encoding and store mappings\n",
    "for col in categorical_cols:\n",
    "    labels, uniques = pd.factorize(df_cleaned[col])  # Get encoded values and unique categories\n",
    "    df_cleaned[col] = labels  # Replace column with encoded values\n",
    "    encoding_mappings[col] = dict(enumerate(uniques))  # Store mapping\n",
    "\n"
   ]
  },
  {
   "cell_type": "code",
   "execution_count": 250,
   "id": "0c7efe79-aad5-40f1-9bc0-5ed551801588",
   "metadata": {},
   "outputs": [
    {
     "name": "stdout",
     "output_type": "stream",
     "text": [
      "Encoding for 'symbol':\n",
      "{0: 'XAUUSD', 1: 'USDJPY', 2: 'EURCAD', 3: 'EURUSD', 4: 'GBPUSD', 5: 'AUDUSD', 6: 'EURJPY', 7: 'GBPJPY', 8: 'US30', 9: 'EURNZD', 10: 'ETHUSD', 11: 'BTCUSD', 12: 'GER30', 13: 'NDX100', 14: 'SPX500', 15: 'NZDUSD', 16: 'XAGUSD', 17: 'USDCAD', 18: 'USDCHF', 19: 'US2000', 20: 'AUDCAD', 21: 'GBPCHF', 22: 'NZDCAD', 23: 'EURGBP', 24: 'GBPNZD', 25: 'GBPCAD', 26: 'CADJPY', 27: 'AUDCHF', 28: 'CHFJPY', 29: 'ADAUSD', 30: 'GBPAUD', 31: 'AUDNZD', 32: 'NZDCHF', 33: 'NZDJPY', 34: 'EURAUD', 35: 'CADCHF', 36: 'EURCHF', 37: 'BCHUSD', 38: 'LTCUSD', 39: 'AUDJPY', 40: 'LNKUSD', 41: 'DOGUSD', 42: 'USOUSD', 43: 'USDMXN', 44: 'JP225', 45: 'UKOUSD', 46: 'USDCNH', 47: 'UK100', 48: 'FRA40', 49: 'XPTUSD', 50: 'HK50', 51: 'ZARJPY', 52: 'XRPUSD', 53: 'USDHKD', 54: 'XLMUSD', 55: 'USDSGD', 56: 'USDHUF', 57: 'AUDSGD', 58: 'MXNJPY', 59: 'XMRUSD', 60: 'GBPSGD', 61: 'NTH25', 62: 'USDTRY'}\n",
      "----------------------------------------\n",
      "Encoding for 'type':\n",
      "{0: 'buy', 1: 'sell'}\n",
      "----------------------------------------\n"
     ]
    }
   ],
   "source": [
    "# Display the mappings\n",
    "for col, mapping in encoding_mappings.items():\n",
    "    print(f\"Encoding for '{col}':\")\n",
    "    print(mapping)\n",
    "    print(\"-\" * 40)"
   ]
  },
  {
   "cell_type": "code",
   "execution_count": 252,
   "id": "f26a278d-2b1e-4fb9-ac5f-1bddc5af93db",
   "metadata": {},
   "outputs": [
    {
     "name": "stdout",
     "output_type": "stream",
     "text": [
      "login                         int64\n",
      "ticket                        int64\n",
      "symbol                        int64\n",
      "type                          int64\n",
      "open_time            datetime64[ns]\n",
      "close_time           datetime64[ns]\n",
      "open_price                  float64\n",
      "close_price                 float64\n",
      "stop_loss                   float64\n",
      "take_profit                 float64\n",
      "pips                        float64\n",
      "reason                        int64\n",
      "volume                        int64\n",
      "profit                      float64\n",
      "month_year                period[M]\n",
      "trade_duration              float64\n",
      "cumulative_profit           float64\n",
      "dtype: object\n"
     ]
    }
   ],
   "source": [
    "print(df_encoded.dtypes)\n"
   ]
  },
  {
   "cell_type": "code",
   "execution_count": 253,
   "id": "56230d17-737a-4a95-9a0a-b6e5c274c8d3",
   "metadata": {},
   "outputs": [],
   "source": [
    "df_encoded['month_year'] = df_encoded['month_year'].dt.to_timestamp()\n"
   ]
  },
  {
   "cell_type": "code",
   "execution_count": 254,
   "id": "2c62d0f2-8de7-4ee2-bb10-00889ba1c8d0",
   "metadata": {},
   "outputs": [
    {
     "data": {
      "image/png": "[encoded data removed]",
      "text/plain": [
       "<Figure size 1000x600 with 2 Axes>"
      ]
     },
     "metadata": {},
     "output_type": "display_data"
    }
   ],
   "source": [
    "# Compute correlation matrix\n",
    "correlation_matrix = df_encoded.corr()\n",
    "\n",
    "# Plot correlation heatmap for profit\n",
    "plt.figure(figsize=(10, 6))\n",
    "sns.heatmap(correlation_matrix[['profit']], annot=True, cmap='coolwarm', fmt='.2f', linewidths=0.5)\n",
    "plt.title('Correlation of Features with Profit')\n",
    "plt.show()"
   ]
  },
  {
   "cell_type": "code",
   "execution_count": 257,
   "id": "091b26c2-af46-40f7-98b3-bdb95ad4a861",
   "metadata": {},
   "outputs": [
    {
     "data": {
      "image/png": "[encoded data removed]",
      "text/plain": [
       "<Figure size 1200x600 with 1 Axes>"
      ]
     },
     "metadata": {},
     "output_type": "display_data"
    }
   ],
   "source": [
    "# Group by 'symbol' and 'type', then calculate mean profit\n",
    "product_profit = df_cleaned.groupby(['symbol', 'type'])['profit'].mean().reset_index()\n",
    "\n",
    "# Sort by profit\n",
    "product_profit_sorted = product_profit.sort_values(by='profit', ascending=False)\n",
    "\n",
    "# Visualize the mean profit for each product type\n",
    "plt.figure(figsize=(12, 6))\n",
    "sns.barplot(x='symbol', y='profit', hue='type', data=product_profit_sorted, palette='Set2')\n",
    "plt.title('Mean Profit by Symbol and Type')\n",
    "plt.xlabel('Symbol')\n",
    "plt.ylabel('Mean Profit')\n",
    "plt.xticks(rotation=90)\n",
    "plt.legend(title='Type')\n",
    "plt.show()\n"
   ]
  },
  {
   "cell_type": "code",
   "execution_count": 259,
   "id": "943a7725-0ee7-4533-bb85-8e4cb8bab4de",
   "metadata": {},
   "outputs": [],
   "source": [
    "# Extract the date (without time)\n",
    "df_cleaned['date'] = df_cleaned['close_time'].dt.date\n",
    "\n",
    "# Group by date and sum profits to identify profitable days\n",
    "daily_profit = df_cleaned.groupby('date')['profit'].sum().reset_index()\n",
    "\n",
    "# Sort by date to ensure correct ordering\n",
    "daily_profit = daily_profit.sort_values(by='date')"
   ]
  },
  {
   "cell_type": "code",
   "execution_count": 261,
   "id": "f73a98cc-9548-4706-b2b5-111a32906695",
   "metadata": {
    "collapsed": true,
    "jupyter": {
     "outputs_hidden": true
    }
   },
   "outputs": [
    {
     "data": {
      "text/html": [
       "<div>\n",
       "<style scoped>\n",
       "    .dataframe tbody tr th:only-of-type {\n",
       "        vertical-align: middle;\n",
       "    }\n",
       "\n",
       "    .dataframe tbody tr th {\n",
       "        vertical-align: top;\n",
       "    }\n",
       "\n",
       "    .dataframe thead th {\n",
       "        text-align: right;\n",
       "    }\n",
       "</style>\n",
       "<table border=\"1\" class=\"dataframe\">\n",
       "  <thead>\n",
       "    <tr style=\"text-align: right;\">\n",
       "      <th></th>\n",
       "      <th>login</th>\n",
       "      <th>ticket</th>\n",
       "      <th>symbol</th>\n",
       "      <th>type</th>\n",
       "      <th>open_time</th>\n",
       "      <th>close_time</th>\n",
       "      <th>open_price</th>\n",
       "      <th>close_price</th>\n",
       "      <th>stop_loss</th>\n",
       "      <th>take_profit</th>\n",
       "      <th>pips</th>\n",
       "      <th>reason</th>\n",
       "      <th>volume</th>\n",
       "      <th>profit</th>\n",
       "      <th>month_year</th>\n",
       "      <th>trade_duration</th>\n",
       "      <th>cumulative_profit</th>\n",
       "      <th>date</th>\n",
       "    </tr>\n",
       "  </thead>\n",
       "  <tbody>\n",
       "    <tr>\n",
       "      <th>0</th>\n",
       "      <td>11173702</td>\n",
       "      <td>47345780</td>\n",
       "      <td>0</td>\n",
       "      <td>0</td>\n",
       "      <td>2024-07-30 11:05:29</td>\n",
       "      <td>2024-07-31 07:58:09</td>\n",
       "      <td>2391.28</td>\n",
       "      <td>2420.69</td>\n",
       "      <td>2367.62</td>\n",
       "      <td>2420.64</td>\n",
       "      <td>2936.0</td>\n",
       "      <td>4</td>\n",
       "      <td>190</td>\n",
       "      <td>5578.40</td>\n",
       "      <td>2024-07</td>\n",
       "      <td>20.877778</td>\n",
       "      <td>5578.40</td>\n",
       "      <td>2024-07-31</td>\n",
       "    </tr>\n",
       "    <tr>\n",
       "      <th>1</th>\n",
       "      <td>11173702</td>\n",
       "      <td>47718163</td>\n",
       "      <td>0</td>\n",
       "      <td>0</td>\n",
       "      <td>2024-07-31 09:46:04</td>\n",
       "      <td>2024-07-31 21:42:15</td>\n",
       "      <td>2421.81</td>\n",
       "      <td>2431.41</td>\n",
       "      <td>2399.23</td>\n",
       "      <td>2431.41</td>\n",
       "      <td>960.0</td>\n",
       "      <td>4</td>\n",
       "      <td>200</td>\n",
       "      <td>1920.00</td>\n",
       "      <td>2024-07</td>\n",
       "      <td>11.936389</td>\n",
       "      <td>7498.40</td>\n",
       "      <td>2024-07-31</td>\n",
       "    </tr>\n",
       "    <tr>\n",
       "      <th>2</th>\n",
       "      <td>11173702</td>\n",
       "      <td>50360070</td>\n",
       "      <td>0</td>\n",
       "      <td>1</td>\n",
       "      <td>2024-08-13 13:03:27</td>\n",
       "      <td>2024-08-14 15:24:08</td>\n",
       "      <td>2460.93</td>\n",
       "      <td>2472.80</td>\n",
       "      <td>2480.93</td>\n",
       "      <td>2451.37</td>\n",
       "      <td>-1199.0</td>\n",
       "      <td>0</td>\n",
       "      <td>200</td>\n",
       "      <td>-2398.00</td>\n",
       "      <td>2024-08</td>\n",
       "      <td>26.344722</td>\n",
       "      <td>5100.40</td>\n",
       "      <td>2024-08-14</td>\n",
       "    </tr>\n",
       "    <tr>\n",
       "      <th>3</th>\n",
       "      <td>11173702</td>\n",
       "      <td>51120570</td>\n",
       "      <td>0</td>\n",
       "      <td>0</td>\n",
       "      <td>2024-08-19 13:27:40</td>\n",
       "      <td>2024-08-19 16:37:12</td>\n",
       "      <td>2495.80</td>\n",
       "      <td>2485.65</td>\n",
       "      <td>2485.71</td>\n",
       "      <td>2508.16</td>\n",
       "      <td>-1012.0</td>\n",
       "      <td>3</td>\n",
       "      <td>190</td>\n",
       "      <td>-1922.80</td>\n",
       "      <td>2024-08</td>\n",
       "      <td>3.158889</td>\n",
       "      <td>3177.60</td>\n",
       "      <td>2024-08-19</td>\n",
       "    </tr>\n",
       "    <tr>\n",
       "      <th>4</th>\n",
       "      <td>11173702</td>\n",
       "      <td>52180073</td>\n",
       "      <td>0</td>\n",
       "      <td>1</td>\n",
       "      <td>2024-08-28 02:30:32</td>\n",
       "      <td>2024-08-28 15:29:39</td>\n",
       "      <td>2526.53</td>\n",
       "      <td>2496.42</td>\n",
       "      <td>2537.07</td>\n",
       "      <td>2496.82</td>\n",
       "      <td>2971.0</td>\n",
       "      <td>4</td>\n",
       "      <td>189</td>\n",
       "      <td>5615.19</td>\n",
       "      <td>2024-08</td>\n",
       "      <td>12.985278</td>\n",
       "      <td>8792.79</td>\n",
       "      <td>2024-08-28</td>\n",
       "    </tr>\n",
       "  </tbody>\n",
       "</table>\n",
       "</div>"
      ],
      "text/plain": [
       "      login    ticket  symbol  type           open_time          close_time  \\\n",
       "0  11173702  47345780       0     0 2024-07-30 11:05:29 2024-07-31 07:58:09   \n",
       "1  11173702  47718163       0     0 2024-07-31 09:46:04 2024-07-31 21:42:15   \n",
       "2  11173702  50360070       0     1 2024-08-13 13:03:27 2024-08-14 15:24:08   \n",
       "3  11173702  51120570       0     0 2024-08-19 13:27:40 2024-08-19 16:37:12   \n",
       "4  11173702  52180073       0     1 2024-08-28 02:30:32 2024-08-28 15:29:39   \n",
       "\n",
       "   open_price  close_price  stop_loss  take_profit    pips  reason  volume  \\\n",
       "0     2391.28      2420.69    2367.62      2420.64  2936.0       4     190   \n",
       "1     2421.81      2431.41    2399.23      2431.41   960.0       4     200   \n",
       "2     2460.93      2472.80    2480.93      2451.37 -1199.0       0     200   \n",
       "3     2495.80      2485.65    2485.71      2508.16 -1012.0       3     190   \n",
       "4     2526.53      2496.42    2537.07      2496.82  2971.0       4     189   \n",
       "\n",
       "    profit month_year  trade_duration  cumulative_profit        date  \n",
       "0  5578.40    2024-07       20.877778            5578.40  2024-07-31  \n",
       "1  1920.00    2024-07       11.936389            7498.40  2024-07-31  \n",
       "2 -2398.00    2024-08       26.344722            5100.40  2024-08-14  \n",
       "3 -1922.80    2024-08        3.158889            3177.60  2024-08-19  \n",
       "4  5615.19    2024-08       12.985278            8792.79  2024-08-28  "
      ]
     },
     "execution_count": 261,
     "metadata": {},
     "output_type": "execute_result"
    }
   ],
   "source": [
    "df_cleaned.head()"
   ]
  },
  {
   "cell_type": "code",
   "execution_count": 260,
   "id": "a1d625c0-6c1f-4b4f-8dde-292f00ff895e",
   "metadata": {},
   "outputs": [
    {
     "data": {
      "image/png": "[encoded data removed]",
      "text/plain": [
       "<Figure size 1200x600 with 1 Axes>"
      ]
     },
     "metadata": {},
     "output_type": "display_data"
    }
   ],
   "source": [
    "plt.figure(figsize=(12, 6))\n",
    "sns.lineplot(x='date', y='profit', data=daily_profit, marker='o', color='blue')\n",
    "plt.title('Total Profit by Date')\n",
    "plt.xlabel('Date')\n",
    "plt.ylabel('Total Profit')\n",
    "plt.xticks(rotation=45)\n",
    "plt.show()"
   ]
  },
  {
   "cell_type": "code",
   "execution_count": 262,
   "id": "15df6aff-58bb-42cb-86e1-5ab24d7057d3",
   "metadata": {},
   "outputs": [
    {
     "name": "stdout",
     "output_type": "stream",
     "text": [
      "count    59085.000000\n",
      "mean        22.284398\n",
      "std        687.580006\n",
      "min     -12250.000000\n",
      "25%       -102.600000\n",
      "50%          2.000000\n",
      "75%         81.900000\n",
      "max      19061.100000\n",
      "Name: profit, dtype: float64\n"
     ]
    }
   ],
   "source": [
    "# Descriptive statistics of the profit column\n",
    "profit_description = df_cleaned['profit'].describe()\n",
    "\n",
    "# Print out the statistics\n",
    "print(profit_description)\n"
   ]
  },
  {
   "cell_type": "code",
   "execution_count": null,
   "id": "1555dc48-bd40-49f6-a319-1c19f31b6c34",
   "metadata": {},
   "outputs": [],
   "source": []
  }
 ],
 "metadata": {
  "kernelspec": {
   "display_name": "Python 3 (ipykernel)",
   "language": "python",
   "name": "python3"
  },
  "language_info": {
   "codemirror_mode": {
    "name": "ipython",
    "version": 3
   },
   "file_extension": ".py",
   "mimetype": "text/x-python",
   "name": "python",
   "nbconvert_exporter": "python",
   "pygments_lexer": "ipython3",
   "version": "3.13.2"
  }
 },
 "nbformat": 4,
 "nbformat_minor": 5
}
